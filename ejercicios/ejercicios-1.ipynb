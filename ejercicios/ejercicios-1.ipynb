{
 "cells": [
  {
   "cell_type": "markdown",
   "metadata": {},
   "source": [
    "## Ejercicio 1: Reemplaza\n",
    "Declara dos variables (var_1 y var_2) que recojan la entrada de teclado del usuario. \n",
    "En las cadenas resultantes realiza las siguientes operaciones:\n",
    "1. Reemplaza todas las apariciones de \"a\" por \"e\" e imprime el resultado.\n",
    "2. Cuenta el número de caracteres de cada cadena e imprime el resultado.\n",
    "3. Convierta la cadena a mayúsculas e imprime el resultado.\n",
    "4. Compruebe si es un palíndromo"
   ]
  },
  {
   "cell_type": "code",
   "execution_count": null,
   "metadata": {},
   "outputs": [],
   "source": []
  },
  {
   "cell_type": "markdown",
   "metadata": {},
   "source": [
    "## Ejercicio 2: PimPam\n",
    "Escribe el código de un bucle que imprima por pantalla los números del 1 al 20. Para aquellos números que sean múltiplos de tres, imprime \"Pim\" (Sin las comillas) en vez del número. Para los múltiplos de cinco, imprime \"Pam\". Para aquellos números que sean a la vez múltiplos de tres y de cinco imprime \"PimPam\". "
   ]
  },
  {
   "cell_type": "code",
   "execution_count": null,
   "metadata": {},
   "outputs": [],
   "source": []
  }
 ],
 "metadata": {
  "kernelspec": {
   "display_name": "Python 3",
   "language": "python",
   "name": "python3"
  },
  "language_info": {
   "codemirror_mode": {
    "name": "ipython",
    "version": 3
   },
   "file_extension": ".py",
   "mimetype": "text/x-python",
   "name": "python",
   "nbconvert_exporter": "python",
   "pygments_lexer": "ipython3",
   "version": "3.9.2"
  }
 },
 "nbformat": 4,
 "nbformat_minor": 4
}
