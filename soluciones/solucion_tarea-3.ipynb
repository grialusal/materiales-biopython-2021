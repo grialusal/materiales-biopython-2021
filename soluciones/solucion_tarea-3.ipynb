{
 "cells": [
  {
   "cell_type": "markdown",
   "metadata": {
    "nbgrader": {
     "grade": false,
     "grade_id": "cell-f41b22e2bc2fe37d",
     "locked": true,
     "schema_version": 3,
     "solution": false,
     "task": false
    }
   },
   "source": [
    "# Problema (5 puntos)\n",
    "En el lab hemos visto la función `cuenta_patron(secuencia, patron)` que devolvía el número de apariciones posiblemente solapadas de un patrón en una secuencia.\n",
    "\n",
    "Pero también hemos visto que para encontrar que el patrón `ACTAT` era el más repetido, hemos tenido que recorrer la lista manualmente para encontrarlo lo cual es obviamente muy engorroso. Por lo tanto, vamos a hacer que Python nos ayude. \n",
    "\n",
    "¿Puedes escribir una función, llamada `kmeros_frecuentes(secuencia, k)` que, siguiendo la misma filosofía, devuelva un mapa de frecuencias de cada k-mero encontrado? Esto es, un diccionario que por claves tendrá los k-meros encontrados y por valor la frecuencia absoluta de dicho k-mero en la secuencia dada?\n",
    "\n",
    "Prueba tu código con el origen de replicación del vibrio cholerae y k=3, 4, 5, 6, 7, 8, 9. Analiza los resultados.\n",
    "¿Encuentras algo \"sorprendente\"? \n",
    "\n",
    "Coméntamelo en la celda de respuesta de texto. "
   ]
  },
  {
   "cell_type": "code",
   "execution_count": null,
   "metadata": {
    "nbgrader": {
     "grade": false,
     "grade_id": "cell-88c5af8f498a2b5b",
     "locked": true,
     "schema_version": 3,
     "solution": false,
     "task": false
    }
   },
   "outputs": [],
   "source": [
    "fd = open(\"../labs/oric.fasta\")\n",
    "vc_oric = fd.readlines()[1] # origen de replicación del Vibrio Cholerae.\n",
    "fd.close()"
   ]
  },
  {
   "cell_type": "code",
   "execution_count": null,
   "metadata": {},
   "outputs": [],
   "source": [
    "def kmeros_frecuentes(secuencia, k):\n",
    "    freq = {} #Declaro un diccionario donde guardaré el mapa de frecuencias de los patrones de longitud k que encuentre.\n",
    "    n = len(secuencia) # Longitud de la secuencia\n",
    "    for i in range(n-k+1): #Itero por todas las posiciones (i) en las que puede empezar un k-mero dentro de la secuencia.\n",
    "        kmero = secuencia[i:i+k] # Guardo el k-mero que está en la posición actual\n",
    "        if kmero in freq: # Para evitar un error al intentar acceder al diccionario de secuencias si no está el kmero\n",
    "            freq[kmero] += 1 # Incremento en 1 la cuenta de frecuencias para el k-mero (si ya estaba registrado)\n",
    "        else:\n",
    "            freq[kmero] = 1 # Si no lo había registrado, lo inicializo a 1. \n",
    "    return freq # Finalmente, la función devuelve el mapa de frecuencias que he ido creando"
   ]
  },
  {
   "cell_type": "code",
   "execution_count": null,
   "metadata": {},
   "outputs": [],
   "source": [
    "len(vc_oric)"
   ]
  },
  {
   "cell_type": "code",
   "execution_count": null,
   "metadata": {},
   "outputs": [],
   "source": [
    "vc_oric = vc_oric.strip('\\n')\n",
    "kmeros_frecuentes(vc_oric, 9)"
   ]
  },
  {
   "cell_type": "code",
   "execution_count": null,
   "metadata": {},
   "outputs": [],
   "source": [
    "kmeros_frecuentes(vc_oric, 4)"
   ]
  },
  {
   "cell_type": "code",
   "execution_count": null,
   "metadata": {},
   "outputs": [],
   "source": [
    "kmeros_frecuentes(vc_oric, 5)"
   ]
  },
  {
   "cell_type": "code",
   "execution_count": null,
   "metadata": {},
   "outputs": [],
   "source": [
    "kmeros_frecuentes(vc_oric, 6)"
   ]
  },
  {
   "cell_type": "code",
   "execution_count": null,
   "metadata": {},
   "outputs": [],
   "source": [
    "kmeros_frecuentes(vc_oric, 7)"
   ]
  },
  {
   "cell_type": "code",
   "execution_count": null,
   "metadata": {},
   "outputs": [],
   "source": [
    "kmeros_frecuentes(vc_oric, 8)"
   ]
  },
  {
   "cell_type": "code",
   "execution_count": null,
   "metadata": {},
   "outputs": [],
   "source": [
    "kmeros_frecuentes(vc_oric, 9)"
   ]
  },
  {
   "cell_type": "code",
   "execution_count": null,
   "metadata": {},
   "outputs": [],
   "source": [
    "def top_kmeros(secuencia, k):\n",
    "    kmeros = []\n",
    "    freqs = kmeros_frecuentes(secuencia, k)\n",
    "    m = max(freqs.values())\n",
    "    for key in freqs:\n",
    "        if freqs[key] == m:\n",
    "            kmeros.append(key)\n",
    "        # add each key to words whose corresponding frequency value is equal to m\n",
    "    return kmeros"
   ]
  },
  {
   "cell_type": "code",
   "execution_count": null,
   "metadata": {},
   "outputs": [],
   "source": [
    "top_kmeros(vc_oric, 9)"
   ]
  },
  {
   "cell_type": "markdown",
   "metadata": {
    "nbgrader": {
     "grade": true,
     "grade_id": "cell-6ad9c8444077b358",
     "locked": false,
     "points": 2.5,
     "schema_version": 3,
     "solution": true,
     "task": false
    }
   },
   "source": [
    "__Explicación__: La motivación de este ejercicio es que comprobáseis por vosotr@s mism@s la aparición de ciertos motivos que aparecen recurrentemente en el origen de replicación y cómo su frecuencia va descendiendo según voy aumentando k. \n",
    "\n",
    "Para reparar en si existía algo \"sorprendente\" en estas frecuencias, era importante darse cuenta de que encontrar un 9-mero 3 ó más veces en la secuencia es mucho más sorprendente que observar por ejemplo un 3-mero 25 ó más veces.\n",
    "\n",
    "Por ejemplo, la probabilidad aproximada de ver un k-mero podía encontrarse con la fórmula general\n",
    "$\\frac{N-t(k-1) \\choose t}{A^{t \\cdot k}}$. \n",
    "\n",
    "Por tanto, para `N=540`, `k=3` y `t=25`, la probabilidad es:\n",
    "$\\frac{540-25(3-1) \\choose 25}{4^{25 \\cdot 3}} = \\frac{490 \\choose 25}{4^{75}} = 0.00044$ \n",
    "\n",
    "Y para `N=540`, `k=9` y `t=3`, la probabilidad es:\n",
    "$\\frac{540-3(9-1) \\choose 3}{4^{3 \\cdot 9}} = \\frac{516 \\choose 3}{4^{27}} = 0.0000000013$ "
   ]
  },
  {
   "cell_type": "markdown",
   "metadata": {},
   "source": [
    "## Problema\n",
    "Calcula, empleando lo aprendido en clase, cuál es la probabilidad de que el mes que viene: \n",
    "\n",
    "1. Te toque el premio \"gordo\" de la Lotería de Navidad.\n",
    "2. Te toque el segundo premio.\n",
    "3. Te toque el reintegro. \n",
    "4. El premio gordo tenga 2 ceros y 3 unos. \n",
    "5. Te toquen las centenas (tres primeras cifras del primer, segundo, o tercer premio)\n",
    "\n",
    "__Extra__: comprueba empíricamente tus estimaciones usando el módulo itertools."
   ]
  },
  {
   "cell_type": "markdown",
   "metadata": {
    "nbgrader": {
     "grade": true,
     "grade_id": "cell-7fcc5e90c73f7d8b",
     "locked": false,
     "points": 0,
     "schema_version": 3,
     "solution": true,
     "task": false
    }
   },
   "source": []
  },
  {
   "cell_type": "code",
   "execution_count": null,
   "metadata": {
    "nbgrader": {
     "grade": false,
     "grade_id": "cell-34924030aed6f116",
     "locked": true,
     "schema_version": 3,
     "solution": false,
     "task": false
    }
   },
   "outputs": [],
   "source": [
    "import itertools"
   ]
  },
  {
   "cell_type": "markdown",
   "metadata": {
    "nbgrader": {
     "grade": true,
     "grade_id": "cell-f0a0bf4a77620a46",
     "locked": false,
     "points": 5,
     "schema_version": 3,
     "solution": true,
     "task": false
    }
   },
   "source": [
    "#### 1. Te toque el premio \"gordo\" de la Lotería de Navidad.\n",
    "Ya que la lotería nacional emplea números de 5 dígitos, calcularemos todas las permutaciones con repetición de un alfabeto de 10 números cogidos de 5 en 5, o sea:\n",
    "\n",
    "$n^{k} = 10^{5} = 100.000$ Ya que existen 100.000 posibles números, y tenemos que acertar uno, la probabilidad será $\\frac{1}{100000} = 0.00001$\n",
    "\n",
    "#### 2. Te toque el segundo premio.\n",
    "\n",
    "Este caso es igual al anterior, ya que sólo existe un segundo premio. Por lo tanto, la probabilidad sigue siendo la misma.\n",
    "\n",
    "#### 3. Te toque el reintegro. \n",
    "Para calcular las probabilidades de acertar el reintegro, simplemente consideraremos todos los números que se pueden generar acabados en uno fijo. Esto es, todas las permutaciones con repetición de 10 números cogidos de 4 en\n",
    "\n",
    "$n^{k} = 10^{4} = 10.000$ \n",
    "\n",
    "Existen por tanto 10.000 de estos números de entre los 100.000 existentes. Lo cual nos da una probabilidad de\n",
    "$\\frac{10000}{100000} = \\frac{1}{10} = 0.1$ \n",
    "\n",
    "#### 4. El premio gordo tenga 2 ceros y 3 unos. \n",
    "Para calcular la probabilidad de que el premio gordo tenga exactamente 2 ceros y 3 unos, podemos calcular primero cuántos números de 5 cifras existen con estas características, y multiplicarlo por la probabilidad de generar cada uno de ellos ($\\frac{1}{100000}$). Ahora bien, ¿cuántos números con 2 ceros y 3 unos existen? \n",
    "\n",
    "Una manera de verlo es pensar en cuántas maneras existen de ordenar 2 (ceros) o 3 (unos) en 5. Por ejemplo, si empleamos el primer caso, tendríamos las siguientes secuencias:\n",
    "\n",
    "1. `00xxx`\n",
    "2. `0x0xx`\n",
    "3. `0xx0x`\n",
    "4. etc...\n",
    "\n",
    "Que es lo mismo que decir de cuántas maneras puedo escoger 2 elementos de 5: $5 \\choose 2 = \\frac{5!}{2!(5-2)!} = \\frac{5 \\cdot 4 \\cdot 3 \\cdot 2 \\cdot 1}{2 \\cdot 1 \\cdot 3 \\cdot 2 \\cdot 1 } = \\frac{120}{12} = 10$.\n",
    "\n",
    "Por tanto, existen 10 posibles números con una probabilidad de $\\frac{1}{100000}$ cada uno: $10 \\cdot \\frac{1}{100000} = \\frac{1}{10000} = 0.0001$\n",
    "\n",
    "\n",
    "#### 5. Te toquen las centenas (tres primeras cifras del primer, segundo, o tercer premio)\n",
    "Para que nos toquen las centenas, tenemos que acertar las tres primeras cifras de uno de 3 números de 5 cifras elegidos al azar de entre los 100.000 existentes. Como la probabilidad de acertar las centenas es de 1 entre $n^{k} = 10^{3} = 1000$, y tenemos 3 \"intentos\" para lograrlo, la probabilidad de acertar las centenas es la suma de la probabilidad de los 3 \"intentos\", o sea: $\\frac{1}{1000}+\\frac{1}{1000}+\\frac{1}{1000}=\\frac{3}{1000}$. \n",
    "\n",
    "\n",
    "\n",
    "#### Comprobación empírica\n",
    "Para comprobar empíricamente estos resultados, vamos a usar el módulo `itertools` para generar todos los números de 5 dígitos sobre un alfabeto de 10 elementos (0 a 9). "
   ]
  },
  {
   "cell_type": "code",
   "execution_count": null,
   "metadata": {},
   "outputs": [],
   "source": [
    "numeros_sorteo = list(itertools.product(range(0, 10), repeat=5))"
   ]
  },
  {
   "cell_type": "code",
   "execution_count": null,
   "metadata": {},
   "outputs": [],
   "source": [
    "# 1. Te toque el premio \"gordo\" de la Lotería de Navidad.\n",
    "# Como tenemos que acertar un número, dividiremos 1 entre la longitud de la lista que contiene todos los números:\n",
    "print(1/len(numeros_sorteo))"
   ]
  },
  {
   "cell_type": "code",
   "execution_count": null,
   "metadata": {},
   "outputs": [],
   "source": [
    "# 2. Te toque el segundo premio.\n",
    "# Igual que el caso anterior\n",
    "print(1/len(numeros_sorteo))"
   ]
  },
  {
   "cell_type": "code",
   "execution_count": null,
   "metadata": {},
   "outputs": [],
   "source": [
    "# 3. Te toque el reintegro.\n",
    "# Para calcular la probabilidad de que te toque el reintegro, vamos a considerar que el gordo por ej. acaba en 1\n",
    "# Entonces, comprobaremos cuántos números terminan en 1 de todos los posibles para hallar empíricamente la probabilidad.\n",
    "\n",
    "frecuencias = {}\n",
    "for numero in numeros_sorteo:\n",
    "    terminacion = \"\".join([str(n) for n in numero])[-1]\n",
    "    if terminacion not in frecuencias:\n",
    "        frecuencias[terminacion] = 1\n",
    "    else:\n",
    "        frecuencias[terminacion] += 1\n",
    "\n",
    "print(frecuencias)\n",
    "print(frecuencias['1'] / len(numeros_sorteo))"
   ]
  },
  {
   "cell_type": "code",
   "execution_count": null,
   "metadata": {},
   "outputs": [],
   "source": [
    "# 4. El premio gordo tenga 2 ceros y 3 unos. \n",
    "# Haremos lo mismo que en el caso anterior, pero ahora comprobando que el número tenga las características indicadas:\n",
    "\n",
    "con_2ceros3unos = [] \n",
    "for numero in numeros_sorteo:\n",
    "    numero_str = \"\".join([str(n) for n in numero])\n",
    "    if numero_str.count(\"0\") == 2 and numero_str.count(\"1\") == 3:\n",
    "        con_2ceros3unos.append(numero)\n",
    "print(len(con_2ceros3unos))\n",
    "print(len(con_2ceros3unos) / len(numeros_sorteo))"
   ]
  },
  {
   "cell_type": "code",
   "execution_count": null,
   "metadata": {},
   "outputs": [],
   "source": [
    "# 5. Te toquen las centenas\n",
    "# Parecido a los dos casos anteriores, pero ahora genero un mapa de frecuencias para cada centena que encuentro\n",
    "# en los números generados. Para que me toquen las centenas, tendría que sumar las probabilidades para las centenas\n",
    "\n",
    "frecuencias = {}\n",
    "for numero in numeros_sorteo:\n",
    "    centenas = \"\".join([str(n) for n in numero])[:3]\n",
    "    if centenas not in frecuencias:\n",
    "        frecuencias[centenas] = 1\n",
    "    else:\n",
    "        frecuencias[centenas] +=1\n",
    "\n",
    "print(frecuencias)\n",
    "print(frecuencias['000'] * 3 / len(numeros_sorteo))"
   ]
  },
  {
   "cell_type": "markdown",
   "metadata": {},
   "source": [
    "__Conclusión/Sugerencia:__ No juegues a la lotería. :) "
   ]
  },
  {
   "cell_type": "code",
   "execution_count": null,
   "metadata": {},
   "outputs": [],
   "source": []
  }
 ],
 "metadata": {
  "celltoolbar": "Create Assignment",
  "kernelspec": {
   "display_name": "Python 3",
   "language": "python",
   "name": "python3"
  },
  "language_info": {
   "codemirror_mode": {
    "name": "ipython",
    "version": 3
   },
   "file_extension": ".py",
   "mimetype": "text/x-python",
   "name": "python",
   "nbconvert_exporter": "python",
   "pygments_lexer": "ipython3",
   "version": "3.9.2"
  }
 },
 "nbformat": 4,
 "nbformat_minor": 4
}
