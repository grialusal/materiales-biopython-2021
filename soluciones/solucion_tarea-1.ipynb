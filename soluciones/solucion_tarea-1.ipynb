{
 "cells": [
  {
   "cell_type": "markdown",
   "metadata": {},
   "source": [
    "Antes de empezar a resolver los problemas de este notebook, comprobad de que todo funciona como es debido. Primero, **reiniciad el kernel** (En el menú superior, seleccionad Kernel$\\rightarrow$Restart) y después **run all cells** (en el menú, seleccionad Cell$\\rightarrow$Run All).\n",
    "\n",
    "Asegúraos también de que rellenais todas las partes que pongan `YOUR CODE HERE` or `YOUR ANSWER HERE`, así como vuestros nombres y apellidos en la siguiente celda. \n",
    "Cuando añadais código, aseguraos de eliminar la línea con el `raise NotImplementedError()` para que no dé error."
   ]
  },
  {
   "cell_type": "code",
   "execution_count": null,
   "metadata": {},
   "outputs": [],
   "source": [
    "NOMBRES = \"\""
   ]
  },
  {
   "cell_type": "markdown",
   "metadata": {},
   "source": [
    "---"
   ]
  },
  {
   "cell_type": "markdown",
   "metadata": {
    "deletable": false,
    "editable": false,
    "nbgrader": {
     "cell_type": "markdown",
     "checksum": "0c2191be6625ee88f0b5248d877634dc",
     "grade": false,
     "grade_id": "cell-f7033b9bcf11d2a7",
     "locked": true,
     "schema_version": 3,
     "solution": false,
     "task": false
    }
   },
   "source": [
    "# Tarea 1\n",
    "\n",
    "## Ejercicio 1 (1.5 puntos)\n",
    "Escribe una función `numeros_1(limite_inferior, limite_superior)` que devuelva los números que sean divisibles por 7 pero no sean múltiplos de 5 entre dos números dados (ambos incluidos)."
   ]
  },
  {
   "cell_type": "code",
   "execution_count": null,
   "metadata": {
    "deletable": false,
    "nbgrader": {
     "cell_type": "code",
     "checksum": "567e525461cfa2d5c5da08218551fc6b",
     "grade": false,
     "grade_id": "cell-8ba2dfd8e9973e4c",
     "locked": false,
     "schema_version": 3,
     "solution": true,
     "task": false
    }
   },
   "outputs": [],
   "source": [
    "def numeros_1(limite_inferior, limite_superior):\n",
    "    l =[] #Aquí se guardan los números que vayamos encontrando\n",
    "    # Recorremos la lista de números generada con la función range. \n",
    "    # Nótese que tenemos que usar limite_superior+1 para generar un intervalo cerrado por la derecha\n",
    "    for i in range(limite_inferior, limite_superior+1): \n",
    "        if i % 7 == 0 and i % 5 != 0: \n",
    "            l.append(i)\n",
    "    return l"
   ]
  },
  {
   "cell_type": "code",
   "execution_count": null,
   "metadata": {
    "deletable": false,
    "editable": false,
    "nbgrader": {
     "cell_type": "code",
     "checksum": "e4fce9126a1449dbf7055773e83042b2",
     "grade": true,
     "grade_id": "cell-74c2ff470b100b37",
     "locked": true,
     "points": 1.5,
     "schema_version": 3,
     "solution": false,
     "task": false
    }
   },
   "outputs": [],
   "source": [
    "assert(numeros_1(0, 7) == [7])\n",
    "assert(numeros_1(0, 14) == [7, 14])\n",
    "assert(numeros_1(120, 350) == [126,\n",
    " 133,\n",
    " 147,\n",
    " 154,\n",
    " 161,\n",
    " 168,\n",
    " 182,\n",
    " 189,\n",
    " 196,\n",
    " 203,\n",
    " 217,\n",
    " 224,\n",
    " 231,\n",
    " 238,\n",
    " 252,\n",
    " 259,\n",
    " 266,\n",
    " 273,\n",
    " 287,\n",
    " 294,\n",
    " 301,\n",
    " 308,\n",
    " 322,\n",
    " 329,\n",
    " 336,\n",
    " 343])"
   ]
  },
  {
   "cell_type": "markdown",
   "metadata": {
    "deletable": false,
    "editable": false,
    "nbgrader": {
     "cell_type": "markdown",
     "checksum": "63cffe2a5df29c23b1a57cfc4050610f",
     "grade": false,
     "grade_id": "cell-486b0a6ac86dcf7e",
     "locked": true,
     "schema_version": 3,
     "solution": false,
     "task": false
    }
   },
   "source": [
    "## Ejercicio 2 (1.5 puntos)\n",
    "\n",
    "Escribe una función `suma(lista)` que devuelva la suma de todos los elementos de una lista."
   ]
  },
  {
   "cell_type": "code",
   "execution_count": null,
   "metadata": {
    "deletable": false,
    "nbgrader": {
     "cell_type": "code",
     "checksum": "e1fa4a6894a77a7abf7d84d80b7d3dbc",
     "grade": false,
     "grade_id": "cell-dafe590def2b656f",
     "locked": false,
     "schema_version": 3,
     "solution": true,
     "task": false
    }
   },
   "outputs": [],
   "source": [
    "def suma(lista):\n",
    "    #Simplemente usamos un acumulador y el operador += para ir incrementando la cuenta dentro de un bucle for\n",
    "    acc = 0\n",
    "    for e in lista:\n",
    "        acc += e\n",
    "    return acc"
   ]
  },
  {
   "cell_type": "code",
   "execution_count": null,
   "metadata": {
    "deletable": false,
    "editable": false,
    "nbgrader": {
     "cell_type": "code",
     "checksum": "a3e4df196b4a3080c0da36570be80e1c",
     "grade": true,
     "grade_id": "cell-0603fcd7515919ea",
     "locked": true,
     "points": 1.5,
     "schema_version": 3,
     "solution": false,
     "task": false
    }
   },
   "outputs": [],
   "source": [
    "assert(suma([1,2,3,4,5]) == 15)\n",
    "assert(suma([1,2,3,4,5,6,7]) == 28)"
   ]
  },
  {
   "cell_type": "markdown",
   "metadata": {
    "deletable": false,
    "editable": false,
    "nbgrader": {
     "cell_type": "markdown",
     "checksum": "c8d5a5d615c41091d916d2f600cabe91",
     "grade": false,
     "grade_id": "cell-36ecc5f4180372fe",
     "locked": true,
     "schema_version": 3,
     "solution": false,
     "task": false
    }
   },
   "source": [
    "## Ejercicio 2: Metiéndonos un poco en harina 🥖🍞\n",
    "\n",
    "La variable cadena que defino debajo alberga el origen de replicación (oriC) del genoma del amigo de John Snow, el *Vibrio Cholerae*:"
   ]
  },
  {
   "cell_type": "code",
   "execution_count": null,
   "metadata": {
    "deletable": false,
    "editable": false,
    "nbgrader": {
     "cell_type": "code",
     "checksum": "7f4e194460fc27d8b864f043958da63d",
     "grade": false,
     "grade_id": "cell-446c3699dfa87249",
     "locked": true,
     "schema_version": 3,
     "solution": false,
     "task": false
    }
   },
   "outputs": [],
   "source": [
    "vc_oric = 'atcaatgatcaacgtaagcttctaagcatgatcaaggtgctcacacagtttatccacaacctgagtggatgacatcaagataggtcgttgtatctccttcctctcgtactctcatgaccacggaaagatgatcaagagaggatgatttcttggccatatcgcaatgaatacttgtgacttgtgcttccaattgacatcttcagcgccatattgcgctggccaaggtgacggagcgggattacgaaagcatgatcatggctgttgttctgtttatcttgttttgactgagacttgttaggatagacggtttttcatcactgactagccaaagccttactctgcctgacatcgaccgtaaattgataatgaatttacatgcttccgcgacgatttacctcttgatcatcgatccgattgaagatcttcaattgttaattctcttgcctcgactcatagccatgatgagctcttgatcatgtttccttaaccctctattttttacggaagaatgatcaagctgctgctcttgatcatcgtttc'"
   ]
  },
  {
   "cell_type": "markdown",
   "metadata": {
    "deletable": false,
    "editable": false,
    "nbgrader": {
     "cell_type": "markdown",
     "checksum": "e6f190aa98922152b7c679a2382a0c5d",
     "grade": false,
     "grade_id": "cell-ee8d909a4a2abaa5",
     "locked": true,
     "schema_version": 3,
     "solution": false,
     "task": false
    }
   },
   "source": [
    "Y debajo declaro una cadena que contiene toda la secuencia de ADN del mismo organismo\n",
    "\n",
    "No te preocupes si no entiendes lo que ocurre: Lo que estoy haciendo es abrir un fichero que contiene la secuencia (más sobre esto en las próximas clases)"
   ]
  },
  {
   "cell_type": "code",
   "execution_count": null,
   "metadata": {
    "deletable": false,
    "editable": false,
    "nbgrader": {
     "cell_type": "code",
     "checksum": "1e8ebd0a82e0612ab1db908af5cbd02d",
     "grade": false,
     "grade_id": "cell-a5fd0cfe691a9848",
     "locked": true,
     "schema_version": 3,
     "solution": false,
     "task": false
    }
   },
   "outputs": [],
   "source": [
    "vc_sec = open(\"vibrio_cholerae.txt\",\"r+\").read()\n",
    "#Es una cadena muuuuy larga\n",
    "#Comprueba su longitud!\n",
    "vc_sec"
   ]
  },
  {
   "cell_type": "markdown",
   "metadata": {
    "deletable": false,
    "editable": false,
    "nbgrader": {
     "cell_type": "markdown",
     "checksum": "764d769204023c5f0757851089902274",
     "grade": false,
     "grade_id": "cell-cc4efd8d9695675d",
     "locked": true,
     "schema_version": 3,
     "solution": false,
     "task": false
    }
   },
   "source": [
    "## Pregunta 1 (1.5 puntos)\n",
    "¿Qué longitud tienen ambas cadenas? ¿Qué porcentaje del ADN del Vibrio Cholerae representa el origen de la replicación? Imprime las respuestas por pantalla."
   ]
  },
  {
   "cell_type": "code",
   "execution_count": null,
   "metadata": {
    "deletable": false,
    "nbgrader": {
     "cell_type": "code",
     "checksum": "cdad5086877ff5beadf7ab8cd4388079",
     "grade": true,
     "grade_id": "cell-afec144bff69d082",
     "locked": false,
     "points": 1.5,
     "schema_version": 3,
     "solution": true,
     "task": false
    }
   },
   "outputs": [],
   "source": [
    "vc_oriC = vc_oriC.upper() \n",
    "vc_oriC_len = len(vc_oriC)\n",
    "vc_sec_len = len(vc_sec) \n",
    "print(\"Longitud oriC: %d\" % vc_oriC_len)\n",
    "print(\"Longitud secuencia completa: %d\" % vc_sec_len)\n",
    "print(\"El origen de replicación representa el %.4f%% de la secuencia\" % (100*vc_oriC_len/vc_sec_len)) "
   ]
  },
  {
   "cell_type": "markdown",
   "metadata": {},
   "source": [
    "__Explicación__\n",
    "\n",
    "Primero paso vc_oriC a mayúsculas por comodidad. Luego Calculo las longitudes usando `len()` y las guardo en sendas variables, que imprimo por pantalla usando `print()`. Finalmente, para calcular el porcentaje, divido la longitud de oriC por la de toda la secuencia y multiplico por 100. "
   ]
  },
  {
   "cell_type": "markdown",
   "metadata": {},
   "source": [
    "## Pregunta 2 (2.5 puntos)\n",
    "¿Cuáles son las frequencia absolutas y relativas de bases {A, C, T, G} en el origen de replicación? ¿Y en todo el genoma? Imprime las respuestas por pantalla."
   ]
  },
  {
   "cell_type": "code",
   "execution_count": 1,
   "metadata": {
    "deletable": false,
    "nbgrader": {
     "cell_type": "code",
     "checksum": "278ba50e17e53260835cbb3c49ef2b7f",
     "grade": true,
     "grade_id": "cell-5e06eedeb257cf7d",
     "locked": false,
     "points": 2.5,
     "schema_version": 3,
     "solution": true,
     "task": false
    }
   },
   "outputs": [
    {
     "ename": "NameError",
     "evalue": "name 'vc_oriC' is not defined",
     "output_type": "error",
     "traceback": [
      "\u001b[0;31m---------------------------------------------------------------------------\u001b[0m",
      "\u001b[0;31mNameError\u001b[0m                                 Traceback (most recent call last)",
      "\u001b[0;32m/tmp/ipykernel_880586/2103459827.py\u001b[0m in \u001b[0;36m<module>\u001b[0;34m\u001b[0m\n\u001b[1;32m      2\u001b[0m \u001b[0;32mfor\u001b[0m \u001b[0mbase\u001b[0m \u001b[0;32min\u001b[0m \u001b[0mbases\u001b[0m\u001b[0;34m:\u001b[0m\u001b[0;34m\u001b[0m\u001b[0;34m\u001b[0m\u001b[0m\n\u001b[1;32m      3\u001b[0m     print(\"%s: oriC: %d(%.4f%%), genome: %d(%.4f%%)\" % (base, \n\u001b[0;32m----> 4\u001b[0;31m                                                  \u001b[0mvc_oriC\u001b[0m\u001b[0;34m.\u001b[0m\u001b[0mcount\u001b[0m\u001b[0;34m(\u001b[0m\u001b[0mbase\u001b[0m\u001b[0;34m)\u001b[0m\u001b[0;34m,\u001b[0m\u001b[0;34m\u001b[0m\u001b[0;34m\u001b[0m\u001b[0m\n\u001b[0m\u001b[1;32m      5\u001b[0m                                                  \u001b[0;36m100\u001b[0m\u001b[0;34m*\u001b[0m\u001b[0mvc_oriC\u001b[0m\u001b[0;34m.\u001b[0m\u001b[0mcount\u001b[0m\u001b[0;34m(\u001b[0m\u001b[0mbase\u001b[0m\u001b[0;34m)\u001b[0m \u001b[0;34m/\u001b[0m \u001b[0mvc_oriC_len\u001b[0m\u001b[0;34m,\u001b[0m\u001b[0;34m\u001b[0m\u001b[0;34m\u001b[0m\u001b[0m\n\u001b[1;32m      6\u001b[0m                                                  \u001b[0mvc_sec\u001b[0m\u001b[0;34m.\u001b[0m\u001b[0mcount\u001b[0m\u001b[0;34m(\u001b[0m\u001b[0mbase\u001b[0m\u001b[0;34m)\u001b[0m\u001b[0;34m,\u001b[0m\u001b[0;34m\u001b[0m\u001b[0;34m\u001b[0m\u001b[0m\n",
      "\u001b[0;31mNameError\u001b[0m: name 'vc_oriC' is not defined"
     ]
    }
   ],
   "source": [
    "bases = (\"A\", \"C\", \"T\", \"G\")\n",
    "for base in bases:\n",
    "    print(\"%s: oriC: %d(%.4f%%), genome: %d(%.4f%%)\" % (base, \n",
    "                                                 vc_oriC.count(base), \n",
    "                                                 100*vc_oriC.count(base) / vc_oriC_len,\n",
    "                                                 vc_sec.count(base),\n",
    "                                                 100*vc_sec.count(base) / vc_sec_len))"
   ]
  },
  {
   "cell_type": "markdown",
   "metadata": {},
   "source": [
    "__Explicación__\n",
    "\n",
    "Itero, usando la expresión `for ... in`, por las bases del alfabeto A,C,T,G que defino como una tupla.\n",
    "Para cada una, imprimo una sóla línea mostrando los datos que se piden. \n",
    "Al imprimirlo de esta manera, es más fácil comparar las frecuencias de los 4 nucleótidos por filas o columnas.\n",
    "Así, es fácil ver que el porcentaje de timinas es sensiblemente mayor en el origen de replicación que en el resto del ADN."
   ]
  },
  {
   "cell_type": "markdown",
   "metadata": {},
   "source": [
    "## Pregunta 3 (3 puntos)\n",
    "Puedes adaptar el código para que haga lo mismo que en el anterior caso, pero para permutaciones de dos elementos de un alfabeto de 4 nucleótidos `{A, C, G, T}`, es decir, `{AC, AT, AG, CT, CG, TG, CA, TA, GA, TC, GC, GT}`?\n",
    "Evita definir los elementos de esta serie en una lista o en variables previamente. En su lugar, emplea bucles para generarlos **dinámicamente** en tiempo de ejecución. "
   ]
  },
  {
   "cell_type": "code",
   "execution_count": 2,
   "metadata": {
    "deletable": false,
    "nbgrader": {
     "cell_type": "code",
     "checksum": "a39a7758f1cd761d9cbadd22749a512d",
     "grade": true,
     "grade_id": "cell-8db935f261e6a91e",
     "locked": false,
     "points": 3,
     "schema_version": 3,
     "solution": true,
     "task": false
    }
   },
   "outputs": [
    {
     "ename": "NameError",
     "evalue": "name 'vc_oriC' is not defined",
     "output_type": "error",
     "traceback": [
      "\u001b[0;31m---------------------------------------------------------------------------\u001b[0m",
      "\u001b[0;31mNameError\u001b[0m                                 Traceback (most recent call last)",
      "\u001b[0;32m/tmp/ipykernel_880586/487460667.py\u001b[0m in \u001b[0;36m<module>\u001b[0;34m\u001b[0m\n\u001b[1;32m      3\u001b[0m         \u001b[0mpar\u001b[0m \u001b[0;34m=\u001b[0m \u001b[0mbases\u001b[0m\u001b[0;34m[\u001b[0m\u001b[0mi\u001b[0m\u001b[0;34m]\u001b[0m \u001b[0;34m+\u001b[0m \u001b[0mbases\u001b[0m\u001b[0;34m[\u001b[0m\u001b[0mj\u001b[0m\u001b[0;34m]\u001b[0m\u001b[0;34m\u001b[0m\u001b[0;34m\u001b[0m\u001b[0m\n\u001b[1;32m      4\u001b[0m         print(\"%s: oriC: %d(%.4f%%), genome: %d(%.4f%%)\" % (par, \n\u001b[0;32m----> 5\u001b[0;31m                                                  \u001b[0mvc_oriC\u001b[0m\u001b[0;34m.\u001b[0m\u001b[0mcount\u001b[0m\u001b[0;34m(\u001b[0m\u001b[0mpar\u001b[0m\u001b[0;34m)\u001b[0m\u001b[0;34m,\u001b[0m\u001b[0;34m\u001b[0m\u001b[0;34m\u001b[0m\u001b[0m\n\u001b[0m\u001b[1;32m      6\u001b[0m                                                  \u001b[0;36m100\u001b[0m\u001b[0;34m*\u001b[0m\u001b[0mvc_oriC\u001b[0m\u001b[0;34m.\u001b[0m\u001b[0mcount\u001b[0m\u001b[0;34m(\u001b[0m\u001b[0mpar\u001b[0m\u001b[0;34m)\u001b[0m \u001b[0;34m/\u001b[0m \u001b[0mvc_oriC_len\u001b[0m\u001b[0;34m,\u001b[0m\u001b[0;34m\u001b[0m\u001b[0;34m\u001b[0m\u001b[0m\n\u001b[1;32m      7\u001b[0m                                                  \u001b[0mvc_sec\u001b[0m\u001b[0;34m.\u001b[0m\u001b[0mcount\u001b[0m\u001b[0;34m(\u001b[0m\u001b[0mpar\u001b[0m\u001b[0;34m)\u001b[0m\u001b[0;34m,\u001b[0m\u001b[0;34m\u001b[0m\u001b[0;34m\u001b[0m\u001b[0m\n",
      "\u001b[0;31mNameError\u001b[0m: name 'vc_oriC' is not defined"
     ]
    }
   ],
   "source": [
    "for i in range(len(bases) - 1):\n",
    "    for j in range(i+1, len(bases)):\n",
    "        par = bases[i] + bases[j]\n",
    "        print(\"%s: oriC: %d(%.4f%%), genome: %d(%.4f%%)\" % (par, \n",
    "                                                 vc_oriC.count(par), \n",
    "                                                 100*vc_oriC.count(par) / vc_oriC_len,\n",
    "                                                 vc_sec.count(par),\n",
    "                                                 100*vc_sec.count(par) / vc_sec_len))\n",
    "        \n",
    "        #Si quisiera hacerlo también para las inversas (aunque no se pedía)\n",
    "        par = bases[j] + bases[i]\n",
    "        print(\"%s: oriC: %d(%.4f%%), genome: %d(%.4f%%)\" % (par, \n",
    "                                                 vc_oriC.count(par), \n",
    "                                                 100*vc_oriC.count(par) / vc_oriC_len,\n",
    "                                                 vc_sec.count(par),\n",
    "                                                 100*vc_sec.count(par) / vc_sec_len))"
   ]
  },
  {
   "cell_type": "markdown",
   "metadata": {},
   "source": [
    "__Explicación__ \n",
    "\n",
    "Ahora se nos pide que hagamos lo mismo pero para dinucléotidos obtenidos como combinaciones sin repetición del alfabeto. \n",
    "Para generar los dinucléotidos empleo dos bucles, uno anidado dentro del otro. El más externo se ocupa de generar el primer nucléotido, mientras que el interno genera el segundo. \n",
    "\n",
    "Como nos piden permutaciones sin repetición, no se repetirán nucléotidos (AA, GG, AAT, ATT, etc. no serían válidas). Una manera programática de generar estas combinaciones es iterar por cada elemento de la lista (bucle externo) y combinarlo con todas aquellas bases que se encuentren a su derecha (bucle interno).\n",
    "\n",
    "Una vez obtenido el dinucleótido, puedo calcular las frecuencias de manera análoga al ejercicio anterior. Si quisiera analizar las inversas, bastaría con permutar el orden de los elementos (índices i y j). \n",
    "\n",
    "Es importante reseñar que este enfoque no es muy escalable, ya que el número de bucles anidados que hay que usar para generar los resultados deseados depende de la longitud de las combinaciones "
   ]
  },
  {
   "cell_type": "code",
   "execution_count": null,
   "metadata": {},
   "outputs": [],
   "source": []
  }
 ],
 "metadata": {
  "kernelspec": {
   "display_name": "Python 3",
   "language": "python",
   "name": "python3"
  },
  "language_info": {
   "codemirror_mode": {
    "name": "ipython",
    "version": 3
   },
   "file_extension": ".py",
   "mimetype": "text/x-python",
   "name": "python",
   "nbconvert_exporter": "python",
   "pygments_lexer": "ipython3",
   "version": "3.9.2"
  }
 },
 "nbformat": 4,
 "nbformat_minor": 4
}
