{
 "cells": [
  {
   "cell_type": "markdown",
   "metadata": {},
   "source": [
    "# Lab 5. Parte \"a\": El genoma te da sorpresas, sorpresas te da el genoma\n",
    "\n",
    "\n",
    "La __replicación__ del genoma es una de las tareas más importantes que efectúa una célula para poder dividirse.\n",
    "Dicha replicación comienza en una región del genoma conocida como el origen de replicación (ori) y es realizada por las ADN polimerasas. \n",
    "\n",
    "Localizar el origen de replicación es una tarea importante para comprender no sólo cómo las células se replican sino también para la creación de fármacos, vacunas, etc.\n",
    "\n",
    "\n",
    "**Pregunta: ¿Cómo tratarías de encontrar (experimentalmente) el origen de replicación en un genoma de una bacteria?**\n",
    "\n",
    "\n",
    "Por simplicidad, vamos a centrarnos en la tarea de encontrar ori en genomas de bacterias, los cuales principalmente consisten de un sólo cromosoma circular. Para ello, vamos a estudiar una bacteria de la que se conoce su ori, para después determinar qué es lo que tiene de especial esta región del genoma. \n",
    "\n",
    "Ya hemos visto que el origen de replicación del Vibrio Cholerae es:"
   ]
  },
  {
   "cell_type": "code",
   "execution_count": 1,
   "metadata": {},
   "outputs": [
    {
     "name": "stdout",
     "output_type": "stream",
     "text": [
      "541\n",
      "atcaatgatcaacgtaagcttctaagcatgatcaaggtgctcacacagtttatccacaacctgagtggatgacatcaagataggtcgttgtatctccttcctctcgtactctcatgaccacggaaagatgatcaagagaggatgatttcttggccatatcgcaatgaatacttgtgacttgtgcttccaattgacatcttcagcgccatattgcgctggccaaggtgacggagcgggattacgaaagcatgatcatggctgttgttctgtttatcttgttttgactgagacttgttaggatagacggtttttcatcactgactagccaaagccttactctgcctgacatcgaccgtaaattgataatgaatttacatgcttccgcgacgatttacctcttgatcatcgatccgattgaagatcttcaattgttaattctcttgcctcgactcatagccatgatgagctcttgatcatgtttccttaaccctctattttttacggaagaatgatcaagctgctgctcttgatcatcgtttc\n",
      "\n"
     ]
    }
   ],
   "source": [
    "fd = open(\"./oric.fasta\")\n",
    "vc_oric = fd.readlines()[1]\n",
    "fd.close()\n",
    "print(len(vc_oric))\n",
    "print(vc_oric)"
   ]
  },
  {
   "cell_type": "markdown",
   "metadata": {},
   "source": [
    "¿Cómo sabe la célula bacteriana que tiene que comenzar la replicación en esta pequeña región (\\~500bp o 0.0487%) del genoma (\\~1.000.000bp)? ¡Ha de existir algún tipo de mensaje que le indique dónde mirar! De hecho, el comienzo de la replicación es soportado por una proteína llamada DnaA que va a adherirse a un pequeño segmento en ori (caja DnaA). \n",
    "\n",
    "La caja DnaA es un mnensaje en la secuencia que le dice a la proteína DnaA: \"¡Eh, empieza por aquí!\" \n",
    "\n",
    "La pregunta es: ¿Cómo podemos encontrar ese mensaje sin saber apenas nada sobre él? ¿Qué es lo que lo hace especial? \n",
    "\n",
    "Para dar con la respuesta, vamos a emplear métodos estadísticos y cuantitativos que nos van a permitir caracterizar de manera clara estas particularidades.\n",
    "\n",
    "## ¿Cómo de sorprendente?\n",
    "Debido a diferentes procesos biológicos, se sabe que ciertas cadenas de nucleótidos son _sorprendentemente_ frecuentes en algunas regiones del genoma. La causa es que comúnmente ciertas proteínas sólo pueden unirse al ADN si existen ciertas secuencias de nucleótidos. Cuantas más de estas cadenas existan, más probabilidades hay de que esta unión ocurra. \n",
    "\n",
    "Pero, ¿qué significa _\"sorprendentemente\"_? ¡Afortunadamente, la estadística existe precisamente para cuantificar la sorpresa (entre otras cosas)!\n",
    "\n",
    "Por ejemplo, considera la secuencia\n",
    "\n",
    "`\"ACAACTATGCATACTATCGGGAACTATCCT\"`\n",
    "\n",
    "¿Dirías que existe una subcadena (\"k-mero\" o secuencia de k nucleótidos) que sea _sorprendentemente_ frecuente? ¿Por qué?\n",
    "\n",
    "__Nota__: Un k-mero, del griego méros (parte), se podría traducir como \"una parte o porción de longitud k\". \n",
    "\"-mer\" es un sufijo muy utilizado en química para denotar partes de una molécula (por ej, \"polímero\"). "
   ]
  },
  {
   "cell_type": "code",
   "execution_count": 2,
   "metadata": {},
   "outputs": [],
   "source": [
    "# Vamos a escribir un método\n",
    "seq_1 = \"ACAACTATGCATACTATCGGGAACTATCCT\"\n",
    "\n",
    "def cuenta_patron(secuencia, patron):\n",
    "    cuenta = 0 #Aquí guardo las veces que encuentro el patrón. \n",
    "    # Voy moviéndome una posición a la derecha y comprobando si los siguientes caracteres siguientes son iguales.\n",
    "    for i in range(len(secuencia) - len(patron) + 1): \n",
    "        if secuencia[i:i+len(patron)] == patron: \n",
    "            cuenta += 1\n",
    "    return cuenta"
   ]
  },
  {
   "cell_type": "code",
   "execution_count": 3,
   "metadata": {},
   "outputs": [
    {
     "name": "stdout",
     "output_type": "stream",
     "text": [
      "30\n"
     ]
    },
    {
     "data": {
      "text/plain": [
       "3"
      ]
     },
     "execution_count": 3,
     "metadata": {},
     "output_type": "execute_result"
    }
   ],
   "source": [
    "print(len(seq_1))\n",
    "cuenta_patron(seq_1, \"ACTAT\")"
   ]
  },
  {
   "cell_type": "markdown",
   "metadata": {},
   "source": [
    "Parece que el 5-mero ACTAT se repite 3 veces en la secuencia dada, que tiene longitud 30.\n",
    "\n",
    "¿Pero, cómo de sorprendente es este hecho? Vamos a verlo con un poco de combinatoria. \n",
    "\n",
    "## Combinaciones y permutaciones\n",
    "\n",
    "- __Permutación__: mezcla ordenada -> 473, 374, 347 __no__ son lo mismo\n",
    "- __Combinación__: mezcla sin importar el orden -> 473, 374, 347 son lo mismo\n",
    "\n",
    "\n",
    "Como ya hemos visto en el anterior lab, en ambos casos, podemos permitir que se repitan elementos o no. \n",
    "\n",
    "Vamos a verlo con ejemplos concretos para cada caso:"
   ]
  },
  {
   "cell_type": "markdown",
   "metadata": {},
   "source": [
    "### Permutaciones con repetición de longitud k\n",
    "Fáciles de calcular, simplemente tenemos que hacer k elecciones de n elementos, siendo n el número de opciones que tenemos para elegir. En el caso del alfabeto genómico, {A,G,T,C}, $n=4$. Por ejemplo, para generar todos los 5-meros posibles usando este alfabeto tendremos que considerar todas las posibilidades de hacer 5 elecciones aleatorias seguidas de uno de sus símbolos (4 en cada caso).\n",
    "\n",
    "$n \\times n \\times n \\times n \\times n$ (5 veces) $= 4 \\times 4 \\times 4 \\times 4 \\times 4 = 4^{5} = 1024$.\n",
    "\n",
    "De forma general, haremos diremos que el número de permutaciones con repetición de longitud k es $n^{k}$\n",
    "\n",
    "Por tanto, como el k-mero en el que estamos pensando es `ACTAT`, la probabilidad de escogerlo entre los 1024 disponibles es: $\\frac{1}{1024} \\approx 0.00098$"
   ]
  },
  {
   "cell_type": "markdown",
   "metadata": {},
   "source": [
    "### Permutaciones sin repetición de longitud k <= n\n",
    "\n",
    "Este caso es igual al anterior, pero ahora nuestras opciones disponibles se reducen en 1 con cada eleccción. \n",
    "\n",
    "$n \\times (n-1) \\times (n-2) \\times (n-3) \\times (n-4) = 4 \\times 3 \\times 2 \\times 1 = 5! = 24$\n",
    "\n",
    "lo que nos da todas las permutaciones sin repetición de $n=4$ elementos. \n",
    "\n",
    "Por tanto, de manera general, el número de permutaciones posibles con n elementos será $n!$. \n",
    "\n",
    "__nota:__ _El factorial de un número entero positivo n se escribe n! y es el producto de todos los números enteros positivos desde 1 hasta n._"
   ]
  },
  {
   "cell_type": "markdown",
   "metadata": {},
   "source": [
    "Imagina ahora que sólo nos interesan las permutaciones sin repetición de hasta 2 elementos. ¿Cómo lo haríamos?\n",
    "\n",
    "Tendríamos que hacer $n - k = 4 - 2 = 2$ elecciones de este tipo.\n",
    "\n",
    "$n \\times (n-1) = 12$\n",
    "\n",
    "entonces, como norma siempre llegaremos hasta el elemento $(n-k+1)$ en el factorial.\n",
    "\n",
    "Por tanto, todo esto puede ser convenientemente rescrito para dar con la formula:\n",
    "\n",
    "$\\frac{n!}{(n-k)!}$\n",
    "\n",
    "__Atent@! Sólo podemos escoger hasta $k \\leq n$, ya que sí $k \\gt n$, entonces estaríamos obligados a repetir elementos!__\n",
    "\n",
    "Demostración empírica:"
   ]
  },
  {
   "cell_type": "code",
   "execution_count": 39,
   "metadata": {},
   "outputs": [],
   "source": [
    "from itertools import permutations, product \n",
    "def print_results(it):\n",
    "    for i in it:\n",
    "        print(i)"
   ]
  },
  {
   "cell_type": "code",
   "execution_count": 53,
   "metadata": {},
   "outputs": [
    {
     "name": "stdout",
     "output_type": "stream",
     "text": [
      "Hay 12 permutaciones\n",
      "('A', 'C')\n",
      "('A', 'G')\n",
      "('A', 'T')\n",
      "('C', 'A')\n",
      "('C', 'G')\n",
      "('C', 'T')\n",
      "('G', 'A')\n",
      "('G', 'C')\n",
      "('G', 'T')\n",
      "('T', 'A')\n",
      "('T', 'C')\n",
      "('T', 'G')\n"
     ]
    }
   ],
   "source": [
    "permutaciones = list(permutations('ACGT', 2)) #genera todas las permutaciones de 4 elementos cogidos de 2 en 2.\n",
    "print(\"Hay %d permutaciones\" % len(permutaciones))\n",
    "print_results(permutaciones)"
   ]
  },
  {
   "cell_type": "markdown",
   "metadata": {},
   "source": [
    "### Combinaciones sin repetición de longitud k <= n\n",
    "Para calcular las combinaciones (en las que no importa el orden), vamos a tomar todas las posibles permutaciones sin repetición para $k=n$, de las cuales tendremos que descartar las que están en diferente orden.\n",
    "\n",
    "Fíjate en el código del anterior ejemplo, ¿cuántas tendríamos que descartar?"
   ]
  },
  {
   "cell_type": "code",
   "execution_count": 54,
   "metadata": {},
   "outputs": [],
   "source": [
    "# Como ejemplo, vamos a calcular empíricamente cuántas de las permutaciones \n",
    "# que hemos obtenido en el paso anterior aparecen otra vez con sus elementos en distinto orden.\n",
    "frecuencias = {}\n",
    "for i in range(len(permutaciones)):\n",
    "    conjunto_i = set(permutaciones[i])\n",
    "    frecuencias[i] = 0\n",
    "    for j in range(len(permutaciones)):\n",
    "        conjunto_j = set(permutaciones[j])\n",
    "        if conjunto_i == conjunto_j:\n",
    "            frecuencias[i] += 1"
   ]
  },
  {
   "cell_type": "code",
   "execution_count": 55,
   "metadata": {},
   "outputs": [
    {
     "data": {
      "text/plain": [
       "{0: 2, 1: 2, 2: 2, 3: 2, 4: 2, 5: 2, 6: 2, 7: 2, 8: 2, 9: 2, 10: 2, 11: 2}"
      ]
     },
     "execution_count": 55,
     "metadata": {},
     "output_type": "execute_result"
    }
   ],
   "source": [
    "frecuencias"
   ]
  },
  {
   "cell_type": "markdown",
   "metadata": {},
   "source": [
    "Vaya! Cada una de las permutaciones aparece dos veces en distinto orden! \n",
    "\n",
    "__Pregunta:__ _¿Cuántas veces aparecería si estuviésemos manejando permutaciones de 3 elementos?_"
   ]
  },
  {
   "cell_type": "markdown",
   "metadata": {},
   "source": [
    "Por tanto, como una permutación de k elementos puede ordenarse de $k!$ maneras diferentes, tenemos que divir el número de permutaciones por $k!$\n",
    "\n",
    "De manera general:\n",
    "\n",
    "$\\frac{n!}{(n-k)!}\\times\\frac{1}{k!} = \\frac{n!}{k!(n-k)!} = {n\\choose k}$"
   ]
  },
  {
   "cell_type": "markdown",
   "metadata": {},
   "source": [
    "### Combinaciones con repetición de longitud k\n",
    "Explicar cómo se obtiene el número de combinaciones con repetición es un poco más complicado y no lo vamos a ver en este curso. \n",
    "\n",
    "De momento, confórmate con que la fórmula para obtener el número de combinaciones con repetición de longitud k para un alfabeto de longitud n es:\n",
    "\n",
    "$\\frac{(k+n-1)!}{k!(n-1)!}$"
   ]
  },
  {
   "cell_type": "markdown",
   "metadata": {},
   "source": [
    "## Sorpresa! 🤡\n",
    "Volviendo entonces a la pregunta original, ¿cómo es de sorprendente que `\"ACTAT\"` aparezca en la secuencia `\"ACAACTATGCATACTATCGGGAACTATCCT\"` 3 veces?\n",
    "\n",
    "Para dar con la respuesta, primero tendríamos que calcular la probabilidad de generar el k-mero `\"ACTAT\"`.\n",
    "Podemos calcularlo también empíricamente con ayuda de `itertools`:"
   ]
  },
  {
   "cell_type": "code",
   "execution_count": 8,
   "metadata": {},
   "outputs": [],
   "source": [
    "permutaciones  = list(product('ACGT', repeat=5)) # Todas las permutaciones sin repetición de longitud 5 sobre 4 elementos:"
   ]
  },
  {
   "cell_type": "code",
   "execution_count": 9,
   "metadata": {},
   "outputs": [
    {
     "data": {
      "text/plain": [
       "1024"
      ]
     },
     "execution_count": 9,
     "metadata": {},
     "output_type": "execute_result"
    }
   ],
   "source": [
    "len(permutaciones)"
   ]
  },
  {
   "cell_type": "markdown",
   "metadata": {},
   "source": [
    "Efectivamente, esto concuerda con lo esperado teóricamente: $n^{k} = 4^{5} = 1024$!!\n",
    "\n",
    "Ahora piensa, ¿cuántas \"oportunidades\" tenemos de generar este 5-mero en una cadena de longitud 30?"
   ]
  },
  {
   "cell_type": "code",
   "execution_count": 10,
   "metadata": {},
   "outputs": [
    {
     "name": "stdout",
     "output_type": "stream",
     "text": [
      "26\n"
     ]
    }
   ],
   "source": [
    "contador_oportunidades = 0\n",
    "for i in range(len(seq_1) - 5 + 1):\n",
    "    contador_oportunidades+=1\n",
    "print(contador_oportunidades)"
   ]
  },
  {
   "cell_type": "markdown",
   "metadata": {},
   "source": [
    "Por tanto, tiene 26 (n-k+1) oportunidades (cada una con probabilidad 1/1024) de aparecer en esta secuencia!\n",
    "Esto es, $\\frac{1}{26\\times4^{5}} = \\frac{1}{26624}$. Osea, un poco más de 1 entre 30.000!!\n",
    "\n",
    "Sí, además tiene que salir otras dos veces, en el primer intento tendríamos 25, o sea, $(n-1)-k+1$ oportunidades (ya que una ya la habríamos \"gastado\" en que nos salga una bien).Y análogamente, para el segundo caso, tendríamos 24 oportunidades (habríamos gastado ya dos).\n",
    "\n",
    "En definitiva, la probabilidad combinada de que se den estos tres eventos es:\n",
    "\n",
    "$\\frac{26}{4^{5}}\\times\\frac{25}{4^{5}}\\times\\frac{24}{4^{5}} = \\frac{26\\times 25\\times 24}{4^{15}} = 0.00001452863216$. \n",
    "\n",
    "Osea, una entre 4 billones!!! Para que te hagas una idea, hay estudios que dicen que la probabilidad de que te caiga un rayo en toda tu vida es, aproximadamente, 1 entre 3.000.000. \n",
    "\n",
    "¡Pues que `\"ACTAT\"` aparezca tres veces en `\"ACAACTATGCATACTATCGGGAACTATCCT\"` es, más o menos, igual de probable que que te caiga un rayo!\n"
   ]
  },
  {
   "cell_type": "code",
   "execution_count": null,
   "metadata": {},
   "outputs": [],
   "source": []
  }
 ],
 "metadata": {
  "kernelspec": {
   "display_name": "Python 3",
   "language": "python",
   "name": "python3"
  },
  "language_info": {
   "codemirror_mode": {
    "name": "ipython",
    "version": 3
   },
   "file_extension": ".py",
   "mimetype": "text/x-python",
   "name": "python",
   "nbconvert_exporter": "python",
   "pygments_lexer": "ipython3",
   "version": "3.9.2"
  }
 },
 "nbformat": 4,
 "nbformat_minor": 4
}
