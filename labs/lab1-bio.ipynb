{
 "cells": [
  {
   "cell_type": "markdown",
   "metadata": {},
   "source": [
    "# Lab 1: Variables\n",
    "En esta práctica vamos a tratar con las variables. Como su propio nombre indica, las variables son algo que puede **cambiar** o, en jerga programadora, **mutar** en memoria. Una buena analogía para comprender las variables es que funcionan como cajas de zapatos, que pueden albergar objetos.\n",
    "\n",
    "Las variables se inicializan con una asignación, para lo cual se emplea el símbolo igual (=)."
   ]
  },
  {
   "cell_type": "code",
   "execution_count": null,
   "metadata": {},
   "outputs": [],
   "source": [
    "#Inicialización de dos variables, x e y, a dos objetos enteros de valor 72.\n",
    "x = 72\n",
    "y = 72\n",
    "print(x)\n",
    "print(y)"
   ]
  },
  {
   "cell_type": "code",
   "execution_count": null,
   "metadata": {},
   "outputs": [],
   "source": [
    "#Si reasigno la variable a otro valor y la imprimo vemos que efectivamente ha cambiado:\n",
    "y = 42\n",
    "y = y + 1\n",
    "print(x)\n",
    "print(y)"
   ]
  },
  {
   "cell_type": "markdown",
   "metadata": {},
   "source": [
    "## 1.1 Nombrando las variables\n",
    "Para nombrar las variables (x e y en el apartado anterior) vamos a usar las reglas generales para identificadores en Python. Los identificadores se usan para nombrar no sólo variables, sino también funciones, módulos y otras cosas que veremos durante el curso.\n",
    "\n",
    "Un identificador válido en Python:\n",
    "1. Consistirá de letras mayúsculas (A-Z) y minúsculas (a-z)\n",
    "2. O guión bajo (underscore) \"_\"  \n",
    "3. A excepción del primer caracter, los dígitos del 0 al 9.\n",
    "\n",
    "Además, los identificadores pueden ser de longitud \"prácticamente ilimitada\". Ah! Y se diferencia entre mayúsculas y minúsculas! (case-sensitive).\n",
    "Veamos algún ejemplo:"
   ]
  },
  {
   "cell_type": "code",
   "execution_count": null,
   "metadata": {},
   "outputs": [],
   "source": [
    "#Esto es un nombre de variable válido:\n",
    "variable_1 = 10\n",
    "#Y esto\n",
    "vARIaBLE_2 = 20\n",
    "_variable_3 = 30\n",
    "#Sin embargo esto no. (Quita el 0 para que funcione)\n",
    "_variable_1 = 40"
   ]
  },
  {
   "cell_type": "code",
   "execution_count": null,
   "metadata": {},
   "outputs": [],
   "source": [
    "#Además Python distingue entre identificadores en mayúsculas y minúsculas:\n",
    "a = 10\n",
    "A = 20\n",
    "print(a)\n",
    "print(A)\n"
   ]
  },
  {
   "cell_type": "markdown",
   "metadata": {},
   "source": [
    "### Palabras reservadas (keywords)\n",
    "Otra última regla: Hay una serie de palabras que no puedes usar para nombrar variables (ni para ninguna otra que no sea la función que llevan asociada). No te las tienes que aprender de memoria, ya que según avance el curso iremos explicando qué funcion tienen estas palabras:\n",
    "\n",
    "> and, as, assert, break, class, continue, def, del, elif, else,\n",
    "except, False, finally, for, from, global, if, import, in, is, \n",
    "lambda, None, nonlocal, not, or, pass, raise, return, True, try, \n",
    "while, with, yield\n"
   ]
  },
  {
   "cell_type": "markdown",
   "metadata": {},
   "source": [
    "### Convenciones de estilo para variables\n",
    "Como ves, las reglas que entienden los ordenadores suelen ser bastante claras. Sin embargo, una de las funciones de los lenguajes de programación es que éstos puedan ser leídos por humanos también, los cuales somos un poco más complejos que un ordenador (la mayoría).\n",
    "\n",
    "Un código fuente no es muy útil si sólo puede ser leído por una persona: Normalmente se escribe código para que **otras personas** puedan leerlo y/o reutilizarlo. Debido a esto, se emplean **convenciones**, que son algo así como \"normas de educación para programadores\" que hacen que un código sea fácilmente interpretable (y por tanto reutilizable) por otros. Ya que el interpréte de Python no impone un estilo en concreto, existen muchas guías de estilo (Google por ejemplo tiene la suya propia). Sin embargo [esta](https://www.python.org/dev/peps/pep-0008/) es una de las más famosas y será la que usemos durante el curso. \n",
    "\n",
    "Normalmente, cuando definas variables, querrás expresar qué contienen para hacer más fácil el seguimiento del código. Por ejemplo, si calculo la media de edad de una clase, lo podría almacenar en una variable llamada *edad_media*. Esta manera (separar las palabras mediante guión bajo) se denomina *notación underscore*. Hay otra notación, empleada más típicamente en otros lenguajes (por ej. Javascript), llamada Camel Case. En esta notación se separan las palabras poniendo en mayúscula la primera letra de cada palabra. La misma variable, en Camel Case se escribiría: *camelCase*. \n",
    "\n",
    "**En clase (y en el ecosistema Python) emplearemos la notación underscore**.\n",
    "\n",
    "**IMPORTANTE: Intenta siempre que tu código respete las convenciones de estilo**\n",
    "\n",
    "Otras convenciones son más de sentido común: \n",
    "Por ejemplo, intenta no usar sólo el caracter \"l\" (\"L\" minúscula), \"O\" (\"O\" de \"Orense\") o \"I\" (I de \"Ibiza\") ya que dificultan la legibilidad. "
   ]
  },
  {
   "cell_type": "markdown",
   "metadata": {},
   "source": [
    "## 1.2 Cambiando el tipo\n",
    "En Python 🐍 (no así en otros lenguajes), el **tipo y el valor** de una variable pueden cambiar dinámicamente durante la ejecución de un programa. O dicho de otra manera, una variable puede ser reasignada a cualquier otro objeto diferente."
   ]
  },
  {
   "cell_type": "code",
   "execution_count": null,
   "metadata": {},
   "outputs": [],
   "source": [
    "#Ahora y va a ser una cadena con el valor a continuación:\n",
    "y = 42\n",
    "print(x)\n",
    "print(y)"
   ]
  },
  {
   "cell_type": "code",
   "execution_count": null,
   "metadata": {},
   "outputs": [],
   "source": [
    "#Si declaro otra variable (i)\n",
    "i = 42         # El tipo de datos es implícitamente asignado a entero (int)\n",
    "print(type(i))\n",
    "i = 42 + 0.11  # Ahora cambia a coma flotante (float)\n",
    "print(type(i)) \n",
    "i = \"cuarenta y dos\"    # por último cambia a cadena (str)\n",
    "print(type(i))"
   ]
  },
  {
   "cell_type": "code",
   "execution_count": null,
   "metadata": {},
   "outputs": [],
   "source": [
    "#Así asigno una cadena a la variable s:\n",
    "s = \"Esta cadena ahora\"\n",
    "#Y ahora la imprimo por pantalla:\n",
    "print(s)"
   ]
  },
  {
   "cell_type": "markdown",
   "metadata": {
    "collapsed": true
   },
   "source": [
    "Una ventaja de usar notebooks es que puedes reutilizar variables que hayas asignado en celdas anteriores:"
   ]
  },
  {
   "cell_type": "code",
   "execution_count": null,
   "metadata": {},
   "outputs": [],
   "source": [
    "#La variable s fue asignada en la primera celda, así que ahora puedo operar sobre ella. \n",
    "#En este caso vamos a cambiar todas las apariciones de la letra 'a' por 'o'\n",
    "s = s.replace('a', 'o')"
   ]
  },
  {
   "cell_type": "markdown",
   "metadata": {},
   "source": [
    "**Atención!!** Si no reasigno la variable, seguirá teniendo el valor original!!"
   ]
  },
  {
   "cell_type": "code",
   "execution_count": null,
   "metadata": {},
   "outputs": [],
   "source": [
    "print(s)"
   ]
  },
  {
   "cell_type": "markdown",
   "metadata": {},
   "source": [
    "Como has visto en clase, todas las variables son de un **tipo**, dependiendo de la naturaleza de la información que albergan. Para comprobar el tipo de una variable puedes usar la función reservada de Python `type()`."
   ]
  },
  {
   "cell_type": "code",
   "execution_count": null,
   "metadata": {},
   "outputs": [],
   "source": [
    "i = 42         # El tipo de datos es implícitamente asignado a entero (int)\n",
    "print(type(i))\n",
    "i = 42 + 0.11  # Ahora cambia a coma flotante (float)\n",
    "print(type(i)) \n",
    "i = \"forty\"    # por último cambia a cadena (str)\n",
    "print(type(i))"
   ]
  },
  {
   "cell_type": "markdown",
   "metadata": {},
   "source": [
    "## 1.3 Entrada y salida estándar\n",
    "Como ya habrás podido comprobar, hemos empleado durante todo el notebook la palabra reservada \"print\" para imprimir las variables por la salida estándar. \n",
    "\n",
    "Se llama **salida estándar** al dispositivo de salida que un programa emplea por defecto, normalmente dictaminada por el sistema operativo y el entorno de programación. En este caso, el notebook usa la pantalla de tu ordenador (como la mayoría de intérpretes), pero existen más (lo veremos en próximas lecciones).\n",
    "\n",
    "Al igual que hay una salida estándar, existe también una **entrada estándar** (en este caso el teclado) que permite, de manera inversa a *print*, almacenar datos (introducidos normalmente por el usuario) en variables. Esto es muy conveniente para generar programas **interactivos** capaces de responder a las peticiones del usuario.\n",
    "\n",
    "Ejecuta la siguiente celda para ver un ejemplo:"
   ]
  },
  {
   "cell_type": "code",
   "execution_count": null,
   "metadata": {},
   "outputs": [],
   "source": [
    "num = input(\"Dame un número\")\n",
    "print('El número que has introducido es {}! 🎩'.format(num))"
   ]
  },
  {
   "cell_type": "markdown",
   "metadata": {},
   "source": [
    "## 1.4 Ejercicio\n",
    "Estos son los datos de casos confirmados y muertes en España, Reino Unido y Portugal por la covid-19:\n",
    "\n",
    "| Pais        | Habitantes | Casos confirmados | Muertes |\n",
    "|-------------|------------|-------------------|---------|\n",
    "| España      | 47.431.256 | 813.412           | 32.225  |\n",
    "| Reino Unido | 67.886.004 | 518.222           | 42.459  |\n",
    "| Portugal    | 10.295.909 | 79.885            | 2.018   |\n",
    "\n",
    "¿Puedes calcular usando Python (usa las celdas de abajo para escribir código)...\n",
    "1. la tasa de letalidad para cada país?\n",
    "2. la tasa de mortalidad para cada país?\n",
    "3. la media de casos por 100.000 habitantes en los tres países?"
   ]
  },
  {
   "cell_type": "code",
   "execution_count": null,
   "metadata": {},
   "outputs": [],
   "source": []
  }
 ],
 "metadata": {
  "kernelspec": {
   "display_name": "Python 3",
   "language": "python",
   "name": "python3"
  },
  "language_info": {
   "codemirror_mode": {
    "name": "ipython",
    "version": 3
   },
   "file_extension": ".py",
   "mimetype": "text/x-python",
   "name": "python",
   "nbconvert_exporter": "python",
   "pygments_lexer": "ipython3",
   "version": "3.5.3"
  }
 },
 "nbformat": 4,
 "nbformat_minor": 2
}
