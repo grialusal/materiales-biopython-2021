{
 "cells": [
  {
   "cell_type": "markdown",
   "metadata": {},
   "source": [
    "# Lab 3: Funciones y módulos. Entrada y salida de ficheros\n",
    "## 1. Funciones\n",
    "### 1.1. Definiendo funciones\n",
    "Una función es un bloque de código reutilizable que realiza una tarea específica. \n",
    "Las funciones son útiles porque permiten hacer programas más grandes mejorando la modularidad de los mismos. ¿Recuerdas Divide y vencerás?\n",
    "\n",
    "Como hemos visto Python ofrece funciones built-in o incorporadas para una multitud de tareas, como por ejemplo *print()*, que imprime mensajes por la salida estándar, o *input()*, que recoge una entrada. \n",
    "\n",
    "Además de estas funciones predefinidas, el lenguaje Python te permite especificar tus propias funciones. A estas funciones se les llama *funciones definidas por el usuario* (en contraposición a built-in).\n",
    "\n",
    "Si recuerdas, en el pasado hemos definido las funciones así:"
   ]
  },
  {
   "cell_type": "code",
   "execution_count": null,
   "metadata": {},
   "outputs": [],
   "source": [
    "def dime_hola():     # El nombrado de funciones sigue las mismas normas que el de variables.\n",
    "    print(\"Hola\")    # Los parámetros son opcionales (pero hay que seguir usando paréntesis)\n",
    "    return           # La función puede devolver un valor explícito (si no, devuelve None). "
   ]
  },
  {
   "cell_type": "markdown",
   "metadata": {},
   "source": [
    "### 1.2. Llamando a las funciones\n",
    "Para llamar a una función una vez que ha sido definida, todo lo que hay que hacer es escribir su nombre y el de los argumentos que queramos pasarle:"
   ]
  },
  {
   "cell_type": "code",
   "execution_count": null,
   "metadata": {},
   "outputs": [],
   "source": [
    "dime_hola() #La función no admite argumentos, así que no le paso ninguno..."
   ]
  },
  {
   "cell_type": "markdown",
   "metadata": {},
   "source": [
    "Si hago que la función *dime_hola* admita un argumento: "
   ]
  },
  {
   "cell_type": "code",
   "execution_count": null,
   "metadata": {},
   "outputs": [],
   "source": [
    "def dime_hola(nombre):\n",
    "    print(\"Hola,\",nombre)\n",
    "\n",
    "#Ahora puedo llamarla con el argumento que yo quiera\n",
    "dime_hola(\"Alex\")"
   ]
  },
  {
   "cell_type": "markdown",
   "metadata": {},
   "source": [
    "### 1.3. Paso por referencia\n",
    "En Python todo paso de variables (parámetros) a una función es **por referencia**. Esto significa que si se cambia una variable "
   ]
  },
  {
   "cell_type": "code",
   "execution_count": null,
   "metadata": {},
   "outputs": [],
   "source": [
    "##Cadena\n",
    "def cambia_cadena(cadena):\n",
    "    print('La cadena dentro de la función antes de cambiarla es:', cadena)\n",
    "    cadena = cadena + \" [MUTADA]\"\n",
    "    print('La cadena dentro de la función después de cambiarla es:', cadena)\n",
    "    return\n",
    "\n",
    "mi_cadena = \"Esta es una cadena que va a mutar dentro de la función\"\n",
    "print('La cadena antes de llamar a la función es:', mi_cadena)\n",
    "cambia_cadena(mi_cadena)\n",
    "print('La cadena después de llamar a la función es:', mi_cadena)\n",
    "\n",
    "print('#######')\n",
    "\n",
    "def cambia_lista(lista):\n",
    "    print('La lista dentro de la función antes de cambiarla es:', lista)\n",
    "    lista.append('5')\n",
    "    print('La lista dentro de la función después de cambiarla es:', lista)\n",
    "    return\n",
    "\n",
    "mi_lista = [1,2,3,4]\n",
    "print('La lista antes de llamar a la función es:', mi_lista)\n",
    "cambia_lista(mi_lista)\n",
    "print('La lista después de llamar a la función es:', mi_lista)"
   ]
  },
  {
   "cell_type": "markdown",
   "metadata": {},
   "source": [
    "### 1.4. Parámetros (o argumentos) obligatorios,  por defecto y claves de argumento\n",
    "Los argumentos obligatorios o requeridos de una función son aquellos que se pasan a la función en el orden en el que están definidos. Si tratamos de invocar la función sin estos argumentos la ejecución fallará. "
   ]
  },
  {
   "cell_type": "code",
   "execution_count": null,
   "metadata": {},
   "outputs": [],
   "source": [
    "def imprime(cadena, nombre, despedida):\n",
    "    print('Hola ' + nombre +', esta es tu cadena: \"' + cadena + '\". ' + despedida)\n",
    "    return\n",
    "imprime() #Llamamos a la función sin los argumentos \"cadena\", \"nombre\" y \"despedida\"\n"
   ]
  },
  {
   "cell_type": "code",
   "execution_count": null,
   "metadata": {},
   "outputs": [],
   "source": [
    "#Por el contrario, si uso:\n",
    "imprime(\"Quo Vadis?\", \"Alex\", \"Hasta luego!\")\n",
    "#Ya funciona!"
   ]
  },
  {
   "cell_type": "markdown",
   "metadata": {},
   "source": [
    "Si se quiere evitar el error al llamar a una función sin los parámetros necesarios, hay que usar los llamados **parámetros por defecto\"**.\n",
    "\n",
    "Estos parámetros, que se especifican en la interfaz de la función, asignan valores por defecto a un argumento cuando en la llamada a la función no hayan sido especificados."
   ]
  },
  {
   "cell_type": "code",
   "execution_count": null,
   "metadata": {},
   "outputs": [],
   "source": [
    "def imprime(cadena=\"Et tu, Brute?\", nombre=\"Lucía\", despedida=\"Bye bye!\"):\n",
    "    print('Hola ' + nombre +', esta es tu cadena: \"' + cadena + '\". ' + despedida)\n",
    "    return\n",
    "imprime() #Llamamos a la función sin los argumentos \"cadena\", \"nombre\" y \"despedida\", pero ahora funciona! "
   ]
  },
  {
   "cell_type": "markdown",
   "metadata": {},
   "source": [
    "Las claves de argumento se definen en las llamadas a la función. Permiten identificar los argumentos usando no el orden en el que aparecen, sino el nombre del parámetro. \n",
    "Esto permite saltarse argumentos o usarlos sin emplear el orden de definición:"
   ]
  },
  {
   "cell_type": "code",
   "execution_count": null,
   "metadata": {},
   "outputs": [],
   "source": [
    "#Aqui puedo variar el orden de llamada especificando el nombre de los argumentos\n",
    "imprime(nombre=\"Juan\", despedida=\"Chao!\", cadena=\"Tu quoque, Brute, fili mi\")\n",
    "\n",
    "#Pero si no uso argumentos clave, el orden es el esperado:\n",
    "imprime(\"Chao!\", \"Tu quoque, Brute, fili mi\", \"Juan\")\n",
    "\n",
    "#Usando claves de parámetro y argumentos por defecto:\n",
    "imprime(\"Memento Mori\", despedida=\"See you!\")\n"
   ]
  },
  {
   "cell_type": "markdown",
   "metadata": {},
   "source": [
    "### 1.5. Funciones anónimas\n",
    "Las funciones lambda o anónimas (sin nombre) permiten emplear una **sintaxis abreviada** para declarar funciones de una sóla expresión (línea). Son muy útiles en algunos casos para declarar procedimientos sencillos, para los cuales no es necesario usar una sintaxis tan verbosa como la habitual. \n",
    "\n",
    "Las funciones anónimas no se declaran usando la palabra reservada **def**: por el contrario, emplearemos la palabra reservada **lambda** para definirlas. Además, estas funciones no hacen uso de `return`: se sobreentiende que devuelven el resultado de evaluar la expresión que contienen.\n",
    "\n",
    "Por ejemplo, si quisiéramos ordenar la siguiente lista por longitud de los elementos, podríamos pasar una función `lambda` como parámetro `key` al método built-in `sorted` que hemos visto anteriormente."
   ]
  },
  {
   "cell_type": "code",
   "execution_count": null,
   "metadata": {},
   "outputs": [],
   "source": [
    "lista = ['CGTA', 'ATCGATA', 'ATCGATAATCGATA', 'TCGAATCGATA', 'ATCATCGATA', 'CGAT', 'CGAA']"
   ]
  },
  {
   "cell_type": "code",
   "execution_count": null,
   "metadata": {},
   "outputs": [],
   "source": [
    "#Orden ascendente\n",
    "#Cuidado, no ordena lexicográficamente! ¿Cómo lo harías?\n",
    "sorted(lista, key=lambda elemento: len(elemento))"
   ]
  },
  {
   "cell_type": "code",
   "execution_count": null,
   "metadata": {},
   "outputs": [],
   "source": [
    "#Orden descendente\n",
    "sorted(lista, key=lambda elemento: len(elemento), reverse=True)"
   ]
  },
  {
   "cell_type": "code",
   "execution_count": null,
   "metadata": {},
   "outputs": [],
   "source": [
    "##También puedo declarar una función lambda y usarla en distintas partes del código:\n",
    "##Por ejemplo, si quisiera ordenar las cadenas por el número de 'T's que contienen:\n",
    "sort_by_gs = lambda cadena: cadena.count('T')\n",
    "print(sorted(lista, key=sort_by_gs))\n",
    "print(sorted(lista, key=sort_by_gs, reverse=True))"
   ]
  },
  {
   "cell_type": "markdown",
   "metadata": {},
   "source": [
    "# 2. Módulos (o bibliotecas)\n",
    "\n",
    "De igual manera que las funciones son bloques de código con una función específica, los módulos son conjuntos de funciones y constantes relacionadas temáticamente para desempeñar tareas concretas. En su expresión más básica, son ficheros de código fuente Python (con extensión `.py`) que pueden ser cargados al inicializar un programa. \n",
    "\n",
    "Existen dos tipos de módulos: los que forman parte de la distribución de Python y los que no. Los primeros vienen preinstalados y pueden ser usados directamente sin hacer nada más. Los segundos es necesario instalarlos con un gestor de paquetes como [conda](https://docs.conda.io/projects/conda/en/latest/user-guide/tasks/manage-pkgs.html) o [pip](https://docs.python.org/3/installing/index.html) y suelen haber sido creados por terceros. También podremos crear nuestros propios módulos.\n",
    "\n",
    "Para usar un módulo vamos a hacer uso de la palabra reservada `import <nombredelmodulo>`. Por defecto, Python va a buscar el fichero `<nombredelmodulo>.py` en el mismo directorio donde se esté ejecutando el notebook. Sin embargo, también incluirá rutas típicas en las que `conda` y `pip` suelen instalar paquetes."
   ]
  },
  {
   "cell_type": "markdown",
   "metadata": {},
   "source": [
    "### 2.1. Módulos estándar\n",
    "Como hemos apuntado, los módulos estándar de python son separados del núcleo del lenguaje por temas de rendimiento pero se incluyen en todas las distribuciones del lenguaje y pueden ser usados desde cualquier intérprete.\n",
    "\n",
    "Para ver la lista completa de módulos pincha [aquí](https://docs.python.org/3.5/py-modindex.html). \n",
    "\n",
    "Para ilustrar el uso de estos módulos, nos vamos a centrar en dos: [math](https://docs.python.org/3.5/library/math.html#module-math), que incluye funciones matemáticas de uso general e [itertools](https://docs.python.org/3.5/library/itertools.html#module-itertools), que aúna funciones para crear iteraciones eficientes."
   ]
  },
  {
   "cell_type": "code",
   "execution_count": null,
   "metadata": {},
   "outputs": [],
   "source": [
    "import math\n",
    "#Constante pi\n",
    "print('La constante PI: ' + str(math.pi))\n",
    "print('El factorial de 5: ' + str(math.factorial(5)))\n",
    "print('El máximo común divisor de 14 y 7: ' + str(math.gcd(14, 7)))\n",
    "print('Redondeo hacia abajo: ' + str(math.floor(11/4)))\n",
    "print('Redondeo hacia arriba: ' + str(math.ceil(11/4)))"
   ]
  },
  {
   "cell_type": "code",
   "execution_count": null,
   "metadata": {},
   "outputs": [],
   "source": [
    "# Forma de importar sólo las funciones que voy a usar. Me evita tener que usar <nombremodulo>.<nombrefuncion>\n",
    "def print_results(it):\n",
    "    for i in it:\n",
    "        print(i)\n",
    "from itertools import combinations, combinations_with_replacement, permutations, product "
   ]
  },
  {
   "cell_type": "code",
   "execution_count": null,
   "metadata": {},
   "outputs": [],
   "source": [
    "print_results(combinations('ACGT', 2)) #Combinaciones de 2 elementos sin repetición\n",
    "print()\n",
    "print_results(combinations('ACGT', 3)) #Combinaciones de 3 elementos sin repetición\n",
    "print()\n",
    "print_results(combinations('ACGT', 4)) #Combinaciones de 4 elementos sin repetición\n",
    "print()\n",
    "print_results(combinations('ACGT', 5)) #Combinaciones de 5 elementos sin repetición :) "
   ]
  },
  {
   "cell_type": "code",
   "execution_count": null,
   "metadata": {},
   "outputs": [],
   "source": [
    "print_results(combinations_with_replacement('ACGT', 2)) #Combinaciones de 2 elementos con repetición\n",
    "print()\n",
    "print_results(combinations_with_replacement('ACGT', 3)) #Combinaciones de 3 elementos con repetición\n",
    "print()\n",
    "print_results(combinations_with_replacement('ACGT', 4)) #Combinaciones de 4 elementos con repetición\n",
    "print()\n",
    "print_results(combinations_with_replacement('ACGT', 5)) #Combinaciones de 5 elementos con repetición"
   ]
  },
  {
   "cell_type": "code",
   "execution_count": null,
   "metadata": {},
   "outputs": [],
   "source": [
    "print_results(permutations('ACGT', 2)) #Permutaciones de 2 elementos\n",
    "print()\n",
    "print_results(permutations('ACGT', 3)) #Permutaciones de 3 elementos\n",
    "print()\n",
    "print_results(permutations('ACGT', 4)) #Permutaciones de 4 elementos\n",
    "print()\n",
    "print_results(permutations('ACGT', 5)) #Permutaciones de 5 elementos"
   ]
  },
  {
   "cell_type": "code",
   "execution_count": null,
   "metadata": {},
   "outputs": [],
   "source": [
    "print_results(list(product('ACGT', repeat=2))) #Producto cartesiano de 2x2\n",
    "print()\n",
    "print_results(list(product('ACGT', repeat=3))) #Producto cartesiano de 3x3\n",
    "print()\n",
    "print_results(list(product('ACGT', repeat=4))) #Producto cartesiano de 4x4\n",
    "print()\n",
    "print_results(list(product('ACGT', repeat=5))) #Producto cartesiano de 5x5"
   ]
  },
  {
   "cell_type": "markdown",
   "metadata": {},
   "source": [
    "### 2.2. Instalando módulos\n",
    "\n",
    "Para utilizar módulos no estándar, es necesario instalarlos primero usando un gestor de paquetes (en este caso pip). \n",
    "Existen muchísimas bibliotecas de terceros en python orientadas a infinidad de tareas distintas. \n",
    "Algunas interesantes son: \n",
    "1. [NumPy](https://numpy.org/) - Orientada a la computación numérica, sobre todo con arrays. Leer artículo en [Nature](https://www.nature.com/articles/s41586-020-2649-2).\n",
    "2. [SciPy](https://www.scipy.org/) - computación científica.\n",
    "3. [Pandas](https://pandas.pydata.org/) - análisis de datos.\n",
    "4. [Altair](https://altair-viz.github.io/) - visualización \n",
    "5. [BioPython](https://biopython.org/) - computación con datos biológicos\n",
    "\n",
    "Como ejemplo, vamos a instalar Altair para crear un diagrama de barras simple con los contenidos en C, G, T y A del genoma del vibrio cholerae:"
   ]
  },
  {
   "cell_type": "code",
   "execution_count": null,
   "metadata": {},
   "outputs": [],
   "source": [
    "# Aquí invocamos un comando en la consola de cpg3 (más sobre esto en la asignatura de UNIX)\n",
    "# para instalar la biblioteca de visualización Altair: https://altair-viz.github.io/\n",
    "# Reinicia el kernel después de ejecutar este comando!\n",
    "!pip3 install altair"
   ]
  },
  {
   "cell_type": "code",
   "execution_count": null,
   "metadata": {},
   "outputs": [],
   "source": [
    "import altair as alt\n",
    "\n",
    "data = alt.Data(values= [\n",
    "    {\"a\": 'A', 'b': 12}, \n",
    "    {\"a\": 'B', 'b': 15}, \n",
    "    {\"a\": 'C', 'b': 8}, \n",
    "    {\"a\": 'D', 'b': 22}])\n",
    "\n",
    "alt.Chart(data).mark_bar().encode(\n",
    "    x='a:N',\n",
    "    y='b:Q'\n",
    ")"
   ]
  },
  {
   "cell_type": "markdown",
   "metadata": {},
   "source": [
    "### 2.3. Declarando módulos\n",
    "Para declarar nuestros propios módulos, bastará con crear un fichero con extensiíon `py` y colocarlo en el mismo directorio desde el que queramos usarlo. \n",
    "\n",
    "Como ejemplo, he creado un fichero llamado \"misfunciones.py\" con 3 funciones y lo he colocado en este mismo directorio. Para usar las funciones incluidas en este fichero, bastará con usar la sentencia `import` como muestro aquí debajo:"
   ]
  },
  {
   "cell_type": "code",
   "execution_count": null,
   "metadata": {},
   "outputs": [],
   "source": [
    "import misfunciones\n",
    "misfunciones.di_hola()"
   ]
  },
  {
   "cell_type": "markdown",
   "metadata": {},
   "source": [
    "# 3. Entrada y salida de ficheros\n",
    "Al igual que leemos de la entrada estándar usando la función `input` y escribimos en la salida estándar empleando `print`, una tarea muy útil es hacer lo mismo en ficheros que se guardan en el almacenamiento secundario (por ej., el disco duro). Esto nos va a permitir salvar y recuperar información entre distintas sesiones o ejecuciones de nuestro código y es la forma más simple de **base de datos** (y la única que veremos en este curso).\n",
    "\n",
    "## 3.1 Abrir y cerrar ficheros\n",
    "La manipulación más básica de ficheros de datos incluye la **apertura** y el **cerrado** de los mismos.\n",
    "Antes de leer o escribir en un fichero, es necesario abrirlo. Para ello se emplea la función built-in *open*, que devolverá un **objeto de tipo fichero** que será empleado para llamar a otras funciones asociadas al mismo.\n",
    "Cada fichero contará además con un puntero de fichero, que es una variable asociada al mismo que marca la posición por la que se va leyendo/escribiendo.\n",
    "\n",
    "La interfaz de esta función es la siguiente\n",
    "```python\n",
    "fichero = open(nombre_fichero [, modo_de_acceso][, buffering])\n",
    "```\n",
    "1. nombre_fichero: Cadena que contiene el nombre del fichero al que se quiere acceder.\n",
    "2. modo_de_acceso (opcional): Determina el modo en el que se accede al fichero: lectura, escritura, adjuntar...\n",
    "3. buffering (opcional). Activa/desactiva el buffer de lectura/escritura. No lo usaremos.\n",
    "\n",
    "**Los modos de acceso que manejaremos son los siguientes:**\n",
    "1. `r` :  El fichero se abre en modo sólo lectura. El puntero de fichero se coloca al inicio.\n",
    "2. `r+` : El fichero se abre en modo lectura/escritura. El puntero de fichero se coloca al inicio.\n",
    "3. `w` :  El fichero se abre en modo sólo escritura. El puntero de fichero se coloca al inicio. Sobreescribe el fichero si este existe.\n",
    "4. `w+`:  El fichero se abre en modo escritura/lectura. Sobreescribe el fichero si este existe. Si no existe, crea uno nuevo. \n",
    "5. `a` : El fichero se abre en modo adjuntar. El puntero de fichero se coloca al final si es que éste existe. Si no, crea un nuevo fichero para ser escrito.\n",
    "6. `a+`: El fichero se abre en modo adjuntar y lectura. El puntero de fichero se coloca al final si es que éste existe, abriéndolo en modo adjuntar. Si no, crea un nuevo fichero en modo lectura/escritura.\n",
    "\n",
    "**Una vez abierto el fichero, en cualquier momento puedes ejecutar las siguientes operaciones sobre el objeto fichero:**\n",
    "1. `fichero.closed`: Devuelve *true* si el fichero está cerrado, y falso en caso contrario.\n",
    "2. `fichero.mode`: Devuelve el modo en el que se abrió el fichero.\n",
    "3. `fichero.name`: Devuelve el nombre del fichero.\n",
    "\n",
    "Cuando hayas terminado de operar sobre el fichero, recuerda **siempre** llamar a la función built-in *close* para terminar de guardar o leer la información que te encontrases escribiendo/leyendo. Una vez llamada esta función, no podrás seguir escribiendo en el fichero. \n",
    "\n",
    "## 3.2 Escribiendo en los ficheros\n",
    "Contamos con la función built-in `write` para escribir en los ficheros una vez hayan sido abiertos. En esta asignatura nos limitaremos a escribir cadenas, aunque podríamos escribir datos en binario directamente. \n",
    "Ejemplo: "
   ]
  },
  {
   "cell_type": "code",
   "execution_count": null,
   "metadata": {},
   "outputs": [],
   "source": [
    "fo  = open(\"dialogo_casual_alumnos_bioinformatica.txt\", \"w+\") # Abro el fichero en modo escritura (no existía)\n",
    "fo.write(\"- La expresividad de Python para el manejo de cadenas de texto es impresionante!\\n- Cierto! A pesar de ser un lenguaje interpretado, merece la pena sacrificar rendimiento por la comodidad que supone para implementar muchas de las tareas típicas de nuestra amada disciplina, la genómica!\\n- Qué razón tienes, pardiez!\") # Añado dos líneas de un diálogo ficticio.\n",
    "fo.close() # Cierro el fichero"
   ]
  },
  {
   "cell_type": "markdown",
   "metadata": {},
   "source": [
    "## 3.3 Leyendo desde ficheros\n",
    "La función `read` lee una cadena desde un fichero que ha sido abierto. `read` admite un único argumento, un número entero que indica el número de bytes que se quieren leer desde el fichero, a partir de la posición en la que se encuentre el puntero de fichero. Una vez leída la información, se avanza el puntero de fichero tantos bytes como se hayan leído. Si no se indica el número de bytes, se lee todo lo que se pueda, hasta encontrar el final de fichero."
   ]
  },
  {
   "cell_type": "code",
   "execution_count": null,
   "metadata": {},
   "outputs": [],
   "source": [
    "# Abrimos el fichero que guardamos previamente\n",
    "fo = open(\"dialogo_casual_alumnos_bioinformatica.txt\", \"r\")\n",
    "cadena_1 = fo.read(80) # Leo 80 caracteres\n",
    "cadena_2 = fo.read() # Leo todo lo restante\n",
    "print('cadena_1:')\n",
    "print(cadena_1)\n",
    "print('cadena_2:')\n",
    "print(cadena_2.strip()) # Elimino caracteres no alfanuméricos al comienzo y al final de cadena_2\n",
    "fo.close() #Cierro el fichero"
   ]
  },
  {
   "cell_type": "code",
   "execution_count": null,
   "metadata": {},
   "outputs": [],
   "source": [
    "print(cadena_1)"
   ]
  },
  {
   "cell_type": "markdown",
   "metadata": {},
   "source": [
    "## 3.4 tell y seek\n",
    "Las funciones `tell` y `seek` complementan la funcionalidad de escritura y lectura de ficheros.\n",
    "1. `tell()`: informa de la posición actual dentro del puntero de fichero. Dicho de otra manera, nos dice dónde dentro del fichero ocurrirá la próxima lectura o escritura.\n",
    "2. `seek(offset)`: cambia la posición del puntero de fichero a aquella indicada por el argumento offset, dado como posición absoluta."
   ]
  },
  {
   "cell_type": "code",
   "execution_count": null,
   "metadata": {},
   "outputs": [],
   "source": [
    "# Open a file\n",
    "fo = open(\"dialogo_casual_alumnos_bioinformatica.txt\", \"r+\")\n",
    "cadena = fo.read(80)\n",
    "print(\"He leído el siguiente texto: %s\" % cadena)\n",
    "\n",
    "# Comprobar posición del cursor/puntero\n",
    "posicion = fo.tell()\n",
    "print (\"El cursor está ahora en la posición : \", posicion)\n",
    "\n",
    "# Reposicionamos el puntero al inicio del fichero de nuevo\n",
    "#Vuelve a la posición inicial\n",
    "print(\"Vuelvo a la posición 0...\")\n",
    "fo.seek(0)\n",
    "cadena = fo.read(80) # Vuelvo a leer y...\n",
    "print(\"He leído el siguiente texto: %s\" % cadena)\n",
    "\n",
    "print(\"Posicionando el cursor en 288\")\n",
    "posicion = fo.seek(288)\n",
    "print(\"Ok, estoy en %d\" % posicion)\n",
    "cadena = fo.read()\n",
    "print(\"He leído el siguiente texto: %s\" % cadena)\n",
    "# Terminado, podemos cerrar el fichero\n",
    "fo.close() "
   ]
  },
  {
   "cell_type": "markdown",
   "metadata": {},
   "source": [
    "## 3.5 writelines, readlines\n",
    "Las funciones `readlines` and `writelines` son funciones que se ejecutan sobre el descriptor de fichero y sirven para eso, para leer y escribir líneas, respectivamente, (trozos de texto separados por retornos de carro) en un fichero!\n",
    "\n",
    "`readlines` devuelve una lista con todas las líneas leídas."
   ]
  },
  {
   "cell_type": "code",
   "execution_count": null,
   "metadata": {},
   "outputs": [],
   "source": [
    "def imprimir_lineas(lineas):\n",
    "    for i, linea in enumerate(lineas):\n",
    "        print(i, linea)"
   ]
  },
  {
   "cell_type": "code",
   "execution_count": null,
   "metadata": {},
   "outputs": [],
   "source": [
    "fo = open('dialogo_casual_alumnos_bioinformatica.txt', 'r')\n",
    "imprimir_lineas(fo.readlines())"
   ]
  },
  {
   "cell_type": "markdown",
   "metadata": {},
   "source": [
    "Podemos usar `readlines/writelines` para modificar las líneas de un fichero rápidamente.\n",
    "\n",
    "Por ejemplo, he aquí unos versos de García Lorca:"
   ]
  },
  {
   "cell_type": "code",
   "execution_count": null,
   "metadata": {
    "scrolled": true
   },
   "outputs": [],
   "source": [
    "fo = open(\"bodas.txt\", \"r+\") # r+ leer y escribir\n",
    "lineas = fo.readlines()\n",
    "#Imprimimos las líneas que hemos leído:\n",
    "for i, linea in enumerate(lineas):\n",
    "    print(i, linea)"
   ]
  },
  {
   "cell_type": "markdown",
   "metadata": {},
   "source": [
    "Análogamente, a `writelines` se le pasa una lista con las líneas que se quiere escribir:"
   ]
  },
  {
   "cell_type": "code",
   "execution_count": null,
   "metadata": {},
   "outputs": [],
   "source": [
    "#Ojo! Hay que añadir los retornos de carro explícitamente\n",
    "mas_lineas = [\"\\n¡Dejadme entrar! ¡Vengo helada\", \n",
    "              \"\\npor paredes y cristales!\", \n",
    "              \"\\n¡Abrid tejados y pechos\", \n",
    "              \"\\ndonde pueda calentarme!\"]\n",
    "lineas = ['\\n'] + lineas + mas_lineas #Añado un salto de línea inicial!\n",
    "fo.writelines(lineas)\n",
    "fo.close()"
   ]
  },
  {
   "cell_type": "code",
   "execution_count": null,
   "metadata": {},
   "outputs": [],
   "source": [
    "#Ahora vuelvo a leer :\n",
    "fo = open(\"bodas.txt\", \"r\")\n",
    "lineas = fo.readlines()\n",
    "for i, linea in enumerate(lineas):\n",
    "    print(i, linea)"
   ]
  },
  {
   "cell_type": "markdown",
   "metadata": {},
   "source": [
    "# Ejercicio 1\n",
    "\n",
    "Define una función `inv_comp(cadena)` a la que le pases una secuencia de nucleótidos y calcule su inversa complementaria\n",
    "- A <---> T\n",
    "- C <---> G"
   ]
  },
  {
   "cell_type": "code",
   "execution_count": null,
   "metadata": {},
   "outputs": [],
   "source": [
    "def inv_comp(cadena):\n",
    "    rev = reversed(cadena)\n",
    "    result = \"\"\n",
    "    print(rev)\n",
    "    for c in rev:\n",
    "        if c == 'A':\n",
    "            result+='T'\n",
    "        elif c == 'C':\n",
    "            result+='G'\n",
    "        elif c == 'T':\n",
    "            result+='A'\n",
    "        else:\n",
    "            result+='C'\n",
    "    return result\n",
    "    "
   ]
  },
  {
   "cell_type": "code",
   "execution_count": null,
   "metadata": {},
   "outputs": [],
   "source": [
    "vc_oric = 'atcaatgatcaacgtaagcttctaagcatgatcaaggtgctcacacagtttatccacaacctgagtggatgacatcaagataggtcgttgtatctccttcctctcgtactctcatgaccacggaaagatgatcaagagaggatgatttcttggccatatcgcaatgaatacttgtgacttgtgcttccaattgacatcttcagcgccatattgcgctggccaaggtgacggagcgggattacgaaagcatgatcatggctgttgttctgtttatcttgttttgactgagacttgttaggatagacggtttttcatcactgactagccaaagccttactctgcctgacatcgaccgtaaattgataatgaatttacatgcttccgcgacgatttacctcttgatcatcgatccgattgaagatcttcaattgttaattctcttgcctcgactcatagccatgatgagctcttgatcatgtttccttaaccctctattttttacggaagaatgatcaagctgctgctcttgatcatcgtttc'"
   ]
  },
  {
   "cell_type": "code",
   "execution_count": null,
   "metadata": {},
   "outputs": [],
   "source": [
    "inv_comp(vc_oric)"
   ]
  },
  {
   "cell_type": "markdown",
   "metadata": {},
   "source": [
    "# Ejercicio 2\n",
    "Los ficheros _.fasta_ son ficheros de texto para la representación de secuencias de nucleótidos o proteínas. En la carpeta donde está este notebook, he puesto un fichero llamadao _oric.fasta_, échale un ojo, te espero. \n",
    "1. Como has podido ver, los ficheros fasta pueden contener varias secuencias, que suelen ir precedidas por una descripción de la secuencia en cuestión, indicada por el caracter `>`. \n",
    "2. En concreto, las descripciones de este fichero indican que contiene los orígenes de replicación del _Vibrio Cholerae_ y de la _Thermotoga petrophila_ (otra bacteria). \n",
    "\n",
    "__Pregunta__: Implementa una función llamada `salva_inv_comp_fasta(nombre_fichero)` que:\n",
    "1. Abra el fichero que se pasa como argumento.\n",
    "2. Recorra las líneas del fichero y, para cada secuencia, y haciendo uso de la función del ejercicio 1, calcule su inversa complementaria. \n",
    "3. Guarde las conversión en otro archivo con el mismo formato, _nombre_fichero_convertido.fasta_. \n",
    "4. Devuelva una lista con las cadenas convertidas. "
   ]
  },
  {
   "cell_type": "code",
   "execution_count": null,
   "metadata": {},
   "outputs": [],
   "source": []
  }
 ],
 "metadata": {
  "kernelspec": {
   "display_name": "Python 3",
   "language": "python",
   "name": "python3"
  },
  "language_info": {
   "codemirror_mode": {
    "name": "ipython",
    "version": 3
   },
   "file_extension": ".py",
   "mimetype": "text/x-python",
   "name": "python",
   "nbconvert_exporter": "python",
   "pygments_lexer": "ipython3",
   "version": "3.9.2"
  }
 },
 "nbformat": 4,
 "nbformat_minor": 2
}
