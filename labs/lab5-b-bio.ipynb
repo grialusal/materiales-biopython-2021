{
 "cells": [
  {
   "cell_type": "code",
   "execution_count": null,
   "metadata": {},
   "outputs": [],
   "source": [
    "import math, itertools, random\n",
    "import altair as alt"
   ]
  },
  {
   "cell_type": "markdown",
   "metadata": {},
   "source": [
    "# Lab 5. Parte \"b\": Buscando a oriC 🐠🐠\n",
    "\n",
    "## 1. Patrones superpuestos\n",
    "En el último lab vimos algunos conceptos de probabilidad y combinatoria que nos van a ser útiles para analizar secuencias en Python. En concreto, vimos cómo calcular la probabilidad de ver un k-mero en una secuencia de `N` caracteres del alfabeto genómico. \n",
    "\n",
    "Sin embargo, en entregas también anteriores vimos que los k-meros pueden superponerse, lo cual es un problema: por ejemplo, la función `count()` deja de funcionar apropiadamente. Vamos a ver algún problema relacionado más con este tipo patrones y por qué es importante conocerlos. \n",
    "\n",
    "Para ilustrar el problema de los patrones superpuestos, vamos a jugar a un juego llamado \"La mejor apuesta\".\n",
    "En este juego, el jugador 1 elige un k-mero A (por simplicidad usaremos el alfabeto binario `{0, 1}`, aunque funciona igual para otros alfabetos más largos) y el jugador 2, sabiendo qué ha elegido el jugador 1, selecciona otro k-mero B.\n",
    "\n",
    "\n",
    "En el juego, se irá componiendo una secuencia de 0s y 1s de la siguiente manera: en cada ronda, se tira una moneda al aire y si sale cara, se añade un 1. Si sale cruz, se añade un 0. Se gana cuando el k-mero elegido por el jugador aparece antes que el del contrincante."
   ]
  },
  {
   "cell_type": "code",
   "execution_count": null,
   "metadata": {},
   "outputs": [],
   "source": [
    "a = \"110000\"\n",
    "b = \"011000\""
   ]
  },
  {
   "cell_type": "code",
   "execution_count": null,
   "metadata": {},
   "outputs": [],
   "source": [
    "from IPython.display import clear_output\n",
    "from time import sleep\n",
    "from random import randint\n",
    "\n",
    "sec = ''\n",
    "while(True):\n",
    "    for c in ['—', '\\\\', '|', '/', '—'] * 2:\n",
    "        print(c)\n",
    "        print('')\n",
    "        print('')\n",
    "        sleep(0.3)\n",
    "        clear_output(wait=True)\n",
    "    \n",
    "    resultado = random.randint(0, 1)\n",
    "    cara_cruz = \"cara\"\n",
    "    if resultado == 0:\n",
    "        cara_cruz = \"cruz\"\n",
    "\n",
    "    print('— %s!! (Añado %d)' % (cara_cruz, resultado))\n",
    "    sec+=str(resultado)\n",
    "    print('Secuencia: %s' % sec)\n",
    "    if a in sec:\n",
    "        print(\"Fin! El jugador 1 gana!\")\n",
    "        break\n",
    "    if b in sec:\n",
    "        print(\"Fin! El jugador 2 gana!\")\n",
    "        break\n",
    "    sleep(2.5)\n",
    "              "
   ]
  },
  {
   "cell_type": "markdown",
   "metadata": {},
   "source": [
    "## Muchas partidas\n",
    "Vaya, ¡¿qué pasa?! ¿por qué suele ganar el jugador 2? ¿Habrá sido suerte?\n",
    "\n",
    "Como esto va un poco lento, vamos a acelerarlo creando una función que simula n partidas."
   ]
  },
  {
   "cell_type": "code",
   "execution_count": null,
   "metadata": {},
   "outputs": [],
   "source": [
    "def simular(kmer_a, kmer_b, n=100000, retardo_secs=0):\n",
    "    print(\"Simulando %d juegos\" % n)\n",
    "    ganadores = []\n",
    "    kmer_a_str = \"\".join([str(a) for a in kmer_a])\n",
    "    kmer_b_str = \"\".join([str(a) for a in kmer_b])\n",
    "    print(\"K-mero %s (A) contra %s (B)\" % (kmer_a_str, kmer_b_str))\n",
    "    for i in range(n):\n",
    "#         print('Ronda %d/%d' % (i+1, n))\n",
    "        resultado = \"\"\n",
    "        while True:\n",
    "            resultado += str(random.randint(0, 1))\n",
    "            if kmer_a_str in resultado:\n",
    "                ganadores.append(\"A\")\n",
    "                break\n",
    "            if kmer_b_str in resultado:\n",
    "                ganadores.append(\"B\")\n",
    "                break\n",
    "            \n",
    "    return ganadores"
   ]
  },
  {
   "cell_type": "code",
   "execution_count": null,
   "metadata": {},
   "outputs": [],
   "source": [
    "a = \"110000\"\n",
    "b = \"011000\"\n",
    "ganadores = simular(a, b, n=1000, retardo_secs=0.0)\n",
    "print(\"El jugador 1 ganó %d veces, mientras que el 2 ganó %d veces (dev=%f%%)\" % (ganadores.count(\"A\"), \n",
    "                                                       ganadores.count(\"B\"), \n",
    "                                                       abs(1-ganadores.count(\"B\")/ganadores.count(\"A\"))))"
   ]
  },
  {
   "cell_type": "markdown",
   "metadata": {},
   "source": [
    "## 1.2 ¿Por qué ocurre esto?\n",
    "\n",
    "¡Resulta que no todos los k-meros tienen la misma probabilidad de salir!\n",
    "¿Por qué? Lo vas a ver tu mism@. \n",
    "\n",
    "### Ejercicio 1:\n",
    "Genera todas las posibles variaciones de unos y ceros de longitud 5. Después, comprueba cuántas veces aparecen la \"01\"  y \"11\".\n",
    "\n",
    "__¿Cómo explicarías los resultados?__"
   ]
  },
  {
   "cell_type": "code",
   "execution_count": null,
   "metadata": {},
   "outputs": [],
   "source": [
    "# Aqui## solución ejercicio 1\n"
   ]
  },
  {
   "cell_type": "markdown",
   "metadata": {},
   "source": [
    "#### __Conclusión__\n",
    "\n",
    "Las probabilidades de encontrar un k-mero en una secuencia dependen de si este permite ocurrencias solapadas o no. \n",
    "¡Cuidado con esto!\n"
   ]
  },
  {
   "cell_type": "markdown",
   "metadata": {},
   "source": [
    "## 2. La replicación es un proceso asimétrico\n",
    "\n",
    "Vamos a seguir tratando de buscar el origen de replicación en genomas procarióticos usando métodos computacionales. \n",
    "\n",
    "Resulta que, debido a ciertos procesos que tienen lugar durante la replicación (como la __deaminación__), vamos a encontrar discrepancias entre las cantidades medidas y esperadas de guanina y citosina dependiendo de la zona del genoma en la que nos encontremos (ver figura).\n",
    "\n",
    "![skew](img/increasing_decreasing_skew.png)\n",
    "\n",
    "Vamos a utilizar esta información para tratar de ubicar el origen de replicación en un genoma circular de una bacteria. \n",
    "\n",
    "__Pregunta:__ ¿Cómo hallarías el origen de replicación de acuerdo a la figura?\n",
    "\n",
    "Vamos a corroborar nuestra hipótesis con el genoma de la ya conocida Thermotoga Petrophila. "
   ]
  },
  {
   "cell_type": "code",
   "execution_count": null,
   "metadata": {},
   "outputs": [],
   "source": [
    "def lee_genoma(ruta_fichero):\n",
    "  fd = open(ruta_fichero)\n",
    "  genome = fd.read()\n",
    "  fd.close()\n",
    "  return genome\n",
    "  "
   ]
  },
  {
   "cell_type": "code",
   "execution_count": null,
   "metadata": {},
   "outputs": [],
   "source": [
    "tp_genoma = lee_genoma('../data/Thermotoga-petrophila.txt')\n",
    "ec_genoma = lee_genoma('../data/E-coli.txt')\n",
    "vc_genoma = lee_genoma('../data/vibrio_cholerae.txt')"
   ]
  },
  {
   "cell_type": "code",
   "execution_count": null,
   "metadata": {},
   "outputs": [],
   "source": [
    "len(tp_genoma)"
   ]
  },
  {
   "cell_type": "markdown",
   "metadata": {},
   "source": [
    "### Ejercicio 2:\n",
    "Como sabemos que C tiene que ser más frecuente en una mitad de la cadena que en otro, vamos a deslizar una ventana gigante de tamaño `len(genoma)/2` para medir cómo la citosina va cambiando según recorremos la secuencia. De todas las ventanas que consideremos, aquella con la menor frecuencia absoluta de citosinas será la mitad ori-ter en sentido 5'->3', y la que tenga más, la mitad ter-ori. \n",
    "\n",
    "Crea una función `lista_base(genoma, base)` que recoja la variación de la frecuencia absoluta de una base que se pasa como argumento en una ventana deslizante de tamaño `len(genoma)/2` (irá contando el número de veces que aparece la base en cada ventana). Pruéba tu código pasando el genoma de la Thermotoga Petrophila y 'C'(citosina).\n",
    "\n",
    "__¡Cuidado! ¡Ten en cuenta que el genoma es circular!__\n"
   ]
  },
  {
   "cell_type": "code",
   "execution_count": null,
   "metadata": {},
   "outputs": [],
   "source": [
    "# Aqui## solución ejercicio 2\n",
    "#No imprimas la salida por pantalla o bloquearás el ordenador!!\n",
    "def lista_base(genoma, base):"
   ]
  },
  {
   "cell_type": "code",
   "execution_count": null,
   "metadata": {},
   "outputs": [],
   "source": [
    "len(lista_base(tp_genoma, 'C')) # Tarda mucho!"
   ]
  },
  {
   "cell_type": "markdown",
   "metadata": {},
   "source": [
    "### Acelerando el algoritmo\n",
    "\n",
    "Probablemente, el código que has hecho tarde mucho. Vamos a intentar acelerarlo. \n",
    "Tal como hemos pensado el algoritmo, tenemos que hacer `len(genoma)` búsquedas de 'C' en `len(genoma)//2` elementos. \n",
    "\n",
    "1. ¿Cuántos elementos ha de recorrer nuestro algoritmo para terminar, sabiendo que la longitud del genoma es 1.823.511 bp? \n",
    "2. ¿Cómo podemos arreglarlo? \n",
    "\n",
    "Implementa un método `lista_base_rapida(genoma, base)` que haga lo mismo pero más rápido. "
   ]
  },
  {
   "cell_type": "markdown",
   "metadata": {},
   "source": [
    "Para arreglar nuestro algoritmo, evitaremos buscar repetidamente la base en cada una de las ventanas. \n",
    "Para ello consideraremos sólo el elemento que se \"pierde\" a la izquierda y el que se \"gana\" a la derecha cada vez que deslizamos la ventana: \n",
    "1. Si el elemento que se pierde es del tipo de la base que buscamos, entonces la siguiente ventana tendrá seguro una base menos. \n",
    "2. Si el elemento que se gana es del tipo de la base que buscamos, entonces la siguiente ventana tendrá seguro una base más."
   ]
  },
  {
   "cell_type": "code",
   "execution_count": null,
   "metadata": {},
   "outputs": [],
   "source": [
    "def lista_base_rapida(genoma, base):\n",
    "    lista_freqs = []\n",
    "    n = len(genoma)\n",
    "    genoma_extendido = genoma + genoma[0:n//2]    \n",
    "    \n",
    "    lista_freqs.append(genoma[:n//2].count(base))\n",
    "    for i in range(1, n):\n",
    "        lista_freqs.append(lista_freqs[i-1])\n",
    "        if genoma_extendido[i-1] == base:\n",
    "            lista_freqs[i] = lista_freqs[i]-1\n",
    "        if genoma_extendido[i+(n//2)-1] == base:\n",
    "            lista_freqs[i] = lista_freqs[i]+1\n",
    "            \n",
    "    return lista_freqs"
   ]
  },
  {
   "cell_type": "markdown",
   "metadata": {},
   "source": [
    "Lo que devuelva esta función no va a ser fácil de interpretar si no lo visualizamos. \n",
    "\n",
    "¿Solución? ¡Altair al poder! Vamos a declarar una función que genera un diagrama de línea con los valores y posiciones que le pasemos, así: "
   ]
  },
  {
   "cell_type": "code",
   "execution_count": null,
   "metadata": {},
   "outputs": [],
   "source": [
    "def diagrama_linea(data, agg=1000, type_agg='sum', zero=True):\n",
    "    \"\"\"\n",
    "    Dibuja un diagrama de líneas con la lista que se le pase en data de la forma [0, 1, 0, 5, ...]\n",
    "    agg: Tamaño de la agregación \n",
    "    zero: Si se trunca el eje y o no. \n",
    "    \"\"\"\n",
    "    data_aggregated = []\n",
    "    i = 0\n",
    "    for j in range(agg, len(data), agg):\n",
    "        if type_agg == 'sum':\n",
    "            data_aggregated.append(sum(data[i:j]))\n",
    "        else:\n",
    "            data_aggregated.append(sum(data[i:j])/len(data[i:j]))\n",
    "        i = j\n",
    "\n",
    "    return alt.Chart(alt.Data(\n",
    "        values=[{\"i\": i*agg, \"v\": v/agg} for i,v in enumerate(data_aggregated)])\n",
    "             ).mark_line().encode(\n",
    "        x=\"i:Q\",\n",
    "        y=alt.Y(\"v:Q\", scale=alt.Scale(zero=zero)))"
   ]
  },
  {
   "cell_type": "markdown",
   "metadata": {},
   "source": [
    "Ahora sí, vamos a ver qué ocurre con las citosinas en el genoma de la Thermotoga Petrophila. \n",
    "\n",
    "__¿Dónde diremos que va a estar ubicado el origen de replicación?__"
   ]
  },
  {
   "cell_type": "code",
   "execution_count": null,
   "metadata": {},
   "outputs": [],
   "source": [
    "diagrama_linea(lista_base_rapida(tp_genoma, 'C'), agg=1000, type_agg='avg', zero=False)"
   ]
  },
  {
   "cell_type": "code",
   "execution_count": null,
   "metadata": {},
   "outputs": [],
   "source": [
    "diagrama_linea(lista_base_rapida(ec_genoma, 'C'), zero=False)"
   ]
  },
  {
   "cell_type": "markdown",
   "metadata": {},
   "source": [
    "### Ejercicio 3: \n",
    "\n",
    "Aunque la visualización nos da una muy buena idea de lo que está ocurriendo, a ojímetro va a estar un poco complicado sacar la posición exacta. \n",
    "\n",
    "Implementa una función `min_vals_pos(lista_base)` que devuelva las posiciones donde la lista de variación de la base generada con `lista_base_rapida` que se pasa como argumento alcanza un valor mínimo. "
   ]
  },
  {
   "cell_type": "code",
   "execution_count": null,
   "metadata": {},
   "outputs": [],
   "source": [
    "# Aqui## solución ejercicio 3\n",
    "def min_vals_pos(lista_base):"
   ]
  },
  {
   "cell_type": "code",
   "execution_count": null,
   "metadata": {
    "scrolled": true
   },
   "outputs": [],
   "source": [
    "min_vals_pos(lista_base_rapida(tp_genoma, 'C'))"
   ]
  },
  {
   "cell_type": "code",
   "execution_count": null,
   "metadata": {},
   "outputs": [],
   "source": [
    "min_vals_pos(lista_base_rapida(ec_genoma, 'C'))"
   ]
  },
  {
   "cell_type": "markdown",
   "metadata": {},
   "source": [
    "### Diagramas de sesgo (skew diagrams)\n",
    "\n",
    "Aunque la variación de citosinas en el genoma nos puede dar una buena idea de por dónde se encuentra el origen de replicación, lo cierto es que existe otra manera más precisa de encontrarlo: el diagrama de sesgo.\n",
    "\n",
    "El diagrama de sesgo se construye teniendo en cuenta la diferencia en Cs y Gs en las dos medias secuencias (sentido y antisentido). En la media secuencia en sentido, habrá un decremento en citosinas (#G - #C será positivo), mientras que en el antisentido se percibirá un decremento en guaninas (#G - #C será negativo).\n",
    "\n",
    "Por lo tanto, como hacíamos en el anterior caso podemos analizar en qué posiciones cambia esta tendencia en el genoma para localizar _ori_.\n",
    "\n",
    "![deamina](img/deamina.png)\n",
    "\n",
    "\n",
    "El diagrama de sesgo se construye de manera análoga al anterior caso, pero ahora simplemente tendremos que ir anotando el número de Gs y Cs que se vayan encontrando al recorrer el genoma de manera que:\n",
    "\n",
    "1. El sesgo inicial (posición 0) será 0.\n",
    "2. Sumaremos 1 al sesgo calculado para la anterior posición cada vez que encontremos una guanina.\n",
    "3. Restaremos 1 al sesgo calculado para la anterior posición cada vez que encontremos una citosina.\n",
    "\n",
    "Por ej. el skew de la secuencia `CATGGGCATCGGCCATACGCC` es:\n",
    "![skew_diagram](img/skew_diagram.png)"
   ]
  },
  {
   "cell_type": "markdown",
   "metadata": {},
   "source": [
    "### Ejercicio 4:\n",
    "Implementa una función `lista_sesgo(secuencia)` que devuelva una lista con el sesgo G/C para cada posición del genoma que se pasa como argumento.\n",
    "Prueba tu código con la secuencia de la Thermotoga Petrophila y visualízala usando las funciones proporcionadas."
   ]
  },
  {
   "cell_type": "code",
   "execution_count": null,
   "metadata": {},
   "outputs": [],
   "source": [
    "# Aqui## solución ejercicio 4\n",
    "def lista_sesgo(secuencia):"
   ]
  },
  {
   "cell_type": "code",
   "execution_count": null,
   "metadata": {},
   "outputs": [],
   "source": [
    "sesgos = lista_sesgo(tp_genoma)"
   ]
  },
  {
   "cell_type": "code",
   "execution_count": null,
   "metadata": {},
   "outputs": [],
   "source": [
    "len(sesgos)"
   ]
  },
  {
   "cell_type": "code",
   "execution_count": null,
   "metadata": {},
   "outputs": [],
   "source": [
    "len(tp_genoma)"
   ]
  },
  {
   "cell_type": "code",
   "execution_count": null,
   "metadata": {},
   "outputs": [],
   "source": [
    "assert(len(lista_sesgo(tp_genoma)) == len(tp_genoma) + 1)"
   ]
  },
  {
   "cell_type": "code",
   "execution_count": null,
   "metadata": {},
   "outputs": [],
   "source": [
    "diagrama_linea(lista_sesgo(tp_genoma)) & diagrama_linea(lista_base_rapida(tp_genoma, 'C'), zero=False)"
   ]
  },
  {
   "cell_type": "markdown",
   "metadata": {},
   "source": [
    "## OriC en E.Coli\n",
    "\n",
    "Usando el diagrama de sesgo podemos identificar fácilmente el origen de replicación en E.Coli. ¿Dónde está?\n",
    "Compáralo con los resultados obtenidos usando el método simple de contar la variación de citosinas. \n",
    "\n",
    "Pruébalo con otros genomas. ¿Qué ocurre?"
   ]
  },
  {
   "cell_type": "code",
   "execution_count": null,
   "metadata": {},
   "outputs": [],
   "source": [
    "diagrama_linea(lista_sesgo(ec_genoma)) & diagrama_linea(lista_base_rapida(ec_genoma, 'C'), zero=False)"
   ]
  },
  {
   "cell_type": "code",
   "execution_count": null,
   "metadata": {},
   "outputs": [],
   "source": [
    "min_vals_pos(lista_sesgo(ec_genoma))"
   ]
  },
  {
   "cell_type": "markdown",
   "metadata": {},
   "source": [
    "## Extra: Explicación patrones superpuestos\n",
    "\n",
    "El juego de la mejor apuesta para k-meros se basa en la paradoja de las palabras superpuestas que hemos visto al inicio de este notebook. Este juego es muy especial (y complicado!) ya que es un __juego no transitivo__, es decir, si A gana a B, y B gana C, no necesariamente ocurre que A gana a C. \n",
    "\n",
    "Además, resulta que para k>2, el jugador B (el que elige el k-mero en segundo lugar) siempre puede elegir un k-mero que tenga más posibilidades de ganar. Esto se basa en el concepto de i-superposición y polinomio de correlación:\n",
    "\n",
    "Diremos que B está i-superpuesto con A si los i últimos dígitos de A coinciden con los i últimos dígitos de B. \n",
    "Por ejemplo, como se muestra en la figura, \"110110\" se 1-,2- y 5-superpone a \"011011\".\n",
    "\n",
    "![i-overlap](img/i-overlap.png)\n",
    "\n",
    "Basándonos en esta definición, podemos definir el concepto de correlación entre dos k-meros A y B que es una palabra de k letras binarias (0 ó 1) tal que $c_{i} = 1 \\iff$ B se (k-i)-superpone con A, o $c_{i} = 0 \\iff$ si no. Esta correlación se puede capturar con el polinomio de correlación:\n",
    "\n",
    "$K_{A,B}(t) = c_{0} + c_{1} \\cdot t + c_{2} \\cdot t^{2} + \\dots + c_{k-1} \\cdot t^{k-1}$\n",
    "\n",
    "\n",
    "El matemático John Conway, experto en teoría de juegos dio una simple ecuación para calcular la probabilidad de que el k-mero B derrote al k-mero A:\n",
    "\n",
    "$\\frac{K_{A,A} - K_{A,B}}{K_{B,B} - K_{B,A}}$\n",
    "\n",
    "Conway nunca publicó una demostración de esta fórmula (aunque sí otros después). En aquel entonces, Martin Gardner, un conocido escritor en matemáticas dijo: _\"No tengo ni idea de por qué funciona. Simplemente saca la solución como por arte de magia, como otros muchos de los algoritmos de Conway.\"_"
   ]
  },
  {
   "cell_type": "code",
   "execution_count": null,
   "metadata": {},
   "outputs": [],
   "source": [
    "def get_correlation(kmer_a, kmer_b):\n",
    "    assert(isinstance(kmer_a, type(\"tuple\")) == isinstance(kmer_b, type(\"tuple\")))\n",
    "    assert(len(kmer_a) == len(kmer_b))\n",
    "    \n",
    "    corr = [int(kmer_a[i:] == kmer_b[:(len(kmer_b) - i)]) for i in range(len(kmer_a))]\n",
    "    \n",
    "    return tuple(corr)\n",
    "\n",
    "a = (0, 1, 1, 0, 1, 1)\n",
    "b = (1, 1, 0, 1, 1, 0)\n",
    "\n",
    "get_correlation(a, b)"
   ]
  },
  {
   "cell_type": "code",
   "execution_count": null,
   "metadata": {},
   "outputs": [],
   "source": [
    "def get_corr_poly(kmer_a, kmer_b, p=1/2):\n",
    "    corr = get_correlation(kmer_a, kmer_b)\n",
    "    poly = [float(v) * math.pow(p, i) for i,v in enumerate(corr)]\n",
    "    return poly\n",
    "    "
   ]
  },
  {
   "cell_type": "code",
   "execution_count": null,
   "metadata": {},
   "outputs": [],
   "source": [
    "def get_best_odds(kmer_a, p=1/2):\n",
    "    probs_map = {}\n",
    "    \n",
    "    kaa = sum(get_corr_poly(kmer_a, kmer_a, p))\n",
    "    for kmer in itertools.product([0, 1], repeat=len(kmer_a)):\n",
    "        if kmer == kmer_a:\n",
    "            continue\n",
    "        probs_map[kmer] = (kaa - sum(get_corr_poly(kmer_a, kmer, p))) / (sum(get_corr_poly(kmer, kmer, p)) - sum(get_corr_poly(kmer, kmer_a, p)))\n",
    "    \n",
    "    m = max(probs_map.values())\n",
    "    print(\"max prob: %f\" % m)\n",
    "    best_bets = []\n",
    "    for kmer in probs_map:\n",
    "        if kmer == kmer_a:\n",
    "            continue\n",
    "        if probs_map[kmer] == m:\n",
    "            print(\"adding %s to best bets\" % str(kmer))\n",
    "            best_bets.append(kmer)\n",
    "    \n",
    "    print(\"Best bets against %s: %s\" % (kmer_a, str(best_bets)))\n",
    "    return best_bets"
   ]
  },
  {
   "cell_type": "code",
   "execution_count": null,
   "metadata": {},
   "outputs": [],
   "source": [
    "import random\n",
    "def simulate(kmer_a, kmer_b, n=100000):\n",
    "    print(\"Simulando %d jugadas\" % n)\n",
    "    winners = []\n",
    "    kmer_a_str = \"\".join([str(a) for a in kmer_a])\n",
    "    kmer_b_str = \"\".join([str(a) for a in kmer_b])\n",
    "    print(\"Jugarán %s (A) contra %s (B)\" % (kmer_a_str, kmer_b_str))\n",
    "    for i in range(n):\n",
    "        res_string = \"\"\n",
    "        while True:\n",
    "            res_string += str(random.randint(0, 1))\n",
    "            if kmer_a_str in res_string:\n",
    "                winners.append(\"A\")\n",
    "                break\n",
    "            if kmer_b_str in res_string:\n",
    "                winners.append(\"B\")\n",
    "                break\n",
    "    return winners\n",
    "\n",
    "a = (1, 0, 0, 1)\n",
    "b = get_best_odds(a, p=1/2)[0] # Computa el k-mero con la mayor probabilidad de ganar. \n",
    "\n",
    "winners = simulate(a, b, n=10000)\n",
    "print(\"A won %d times, while B won %d times (%f%%)\" % (winners.count(\"A\"), \n",
    "                                                       winners.count(\"B\"), \n",
    "                                                       winners.count(\"B\")/winners.count(\"A\")))\n",
    "        \n",
    "        \n",
    "    "
   ]
  },
  {
   "cell_type": "code",
   "execution_count": null,
   "metadata": {},
   "outputs": [],
   "source": []
  }
 ],
 "metadata": {
  "kernelspec": {
   "display_name": "Python 3",
   "language": "python",
   "name": "python3"
  },
  "language_info": {
   "codemirror_mode": {
    "name": "ipython",
    "version": 3
   },
   "file_extension": ".py",
   "mimetype": "text/x-python",
   "name": "python",
   "nbconvert_exporter": "python",
   "pygments_lexer": "ipython3",
   "version": "3.9.2"
  }
 },
 "nbformat": 4,
 "nbformat_minor": 4
}
