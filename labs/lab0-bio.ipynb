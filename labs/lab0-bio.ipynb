{
 "cells": [
  {
   "cell_type": "markdown",
   "metadata": {},
   "source": [
    "# Lab 0: Introducción\n",
    "Hola, bienvenida/o a la asignatura de Python del Máster en Bioinformática y Genómica Computacional! Cada semana usaremos un \"notebook\" como éste para presentar los conceptos teóricos y prácticos a tratar durante las sesiones. Es imposible aprender a programar sin practicar, así que es muy importante que sigas las clases con estos notebooks abiertos. \n",
    "\n",
    "\n",
    "Todo OK? Empecemos...\n",
    "\n",
    "---\n",
    "\n",
    "# 1. Jupyter notebooks\n",
    "Esta página web es un Jupyter notebook (cuaderno). Se llama cuaderno porque que puedes escribir y borrar en él como en un cuaderno tradicional pero en este caso vas a escribir (principalmente) código fuente en lenguaje Python. Durante este curso no vas a necesitar nada más para aprender a programar (si no quieres, claro 😉).\n",
    "\n",
    "\n",
    "## 1.1 Celdas de texto\n",
    "Cada cuaderno está formado por celdas, que es cada uno de los rectángulos que ves en pantalla que rodea un trozo de texto. Hay varios tipos de celdas: la primera es la celda de texto, que es en la que nos encontramos ahora mismo. Se escriben en un formato especial llamado [Markdown](http://daringfireball.net/projects/markdown/syntax). No tienes que aprender Markdown en esta asignatura, pero puedes echarle un ojo. \n",
    "\n",
    "Después de editar una celda de texto, dale al botón que aparece en la parte superior de la pantalla: ▶| para confirmar los cambios. También puedes ejecutar una celda si mantienes pulsada la tecla *Alt* (La que está encima de *Ctrl* a la izquierda del teclado) y a la vez pulsas *Intro, Return o Enter*. \n",
    "\n",
    "#### Pregunta: ¿Puedes hacer desaparecer esta frase del notebook? \n",
    "\n",
    "## 1.2 Celdas de código\n",
    "Otro tipo de celdas que manejaremos en los notebooks son las celdas de código, que contienen código en lenguaje Python 🐍.. Ejecutar una celda hará que se ejecute todo el código contenido en ella. \n",
    "\n",
    "Para ejecutar el código de una celda, haz click con el ratón sobre ella para activarla. Se resaltará en un color verde o azul. Luego, pulsa de nuevo el botón ▶| o haz usa el teclado con *Alt + Enter*. \n",
    "\n",
    "Vamos con un ejemplo, intenta ejecutar esta celda:"
   ]
  },
  {
   "cell_type": "code",
   "execution_count": 2,
   "metadata": {},
   "outputs": [
    {
     "name": "stdout",
     "output_type": "stream",
     "text": [
      "¡Hola, Mundo!\n"
     ]
    }
   ],
   "source": [
    "print(\"¡Hola, Mundo!\")"
   ]
  },
  {
   "cell_type": "markdown",
   "metadata": {},
   "source": [
    "Y ahora la siguiente, para una explicación en Wikipedia de lo que acabas de hacer:"
   ]
  },
  {
   "cell_type": "code",
   "execution_count": null,
   "metadata": {},
   "outputs": [],
   "source": [
    "import IPython\n",
    "url = 'https://es.wikipedia.org/wiki/Hola_mundo'\n",
    "iframe = '<iframe src=' + url + ' width=900 height=350></iframe>'\n",
    "IPython.display.HTML(iframe)"
   ]
  },
  {
   "cell_type": "markdown",
   "metadata": {},
   "source": [
    "El bloque fundamental del código en Python es la expresión (Más sobre esto la semana que viene). Las celdas de código pueden contenter múltiples líneas con múltiples expresiones. Cuando corres una celda, las líneas de código son ejecutadas en el orden en el que aparecen, de arriba a abajo. Por ejemplo, cada *print* es una expresión diferente que *imprime* una línea por pantalla. Ejecuta la siguiente celda y fíjate en el orden en el que aparecen los resultados."
   ]
  },
  {
   "cell_type": "code",
   "execution_count": null,
   "metadata": {},
   "outputs": [],
   "source": [
    "print(\"Primero va esta...\")\n",
    "print(\"Y finalmente esta!\")\n",
    "print(\"...luego esta...\")"
   ]
  },
  {
   "cell_type": "markdown",
   "metadata": {},
   "source": [
    "### Pregunta: ¿Puedes cambiar el orden de las expresiones para que aparezcan en orden inverso al dado?"
   ]
  },
  {
   "cell_type": "markdown",
   "metadata": {},
   "source": [
    "## 1.3 Escribiendo tus propios notebooks\n",
    "Puedes usar este servidor durante el cuatrimestre para crear tus propios notebooks para probar el lenguaje: Sólo necesitarás un ordenador con conexión a Internet y tu correo y contraseña de la USAL. Para ello prueba lo siguiente: \n",
    "1. Vete al directorio raíz pulsando en el icono de Jupyter situado en la parte superior izquierda de la pantalla.\n",
    "2. Una vez ahí crea una nueva carpeta pulsando el botón New->Folder.\n",
    "3. Renombra la carpeta a un nombre de tu elección, como por ejemplo \"mis_notebooks\".\n",
    "4. Haz click en la carpeta.\n",
    "5. Crea un nuevo notebook usando New->(Notebook) Python 3.\n",
    "\n",
    "![Ejemplo](ejemplo01.gif \"Creando un notebook dentro del directorio de usuario.\")\n",
    "\n",
    "### Ejercicio: Crea un notebook de ejemplo dentro de una carpeta en tu directorio personal.\n",
    "\n",
    "*Nota: La persistencia de los notebooks de prueba que crees no está garantizada dentro del servidor de clase (No así como la de los notebooks de las sesiones y prácticas obligatorias). Es aconsejable que descargues a tu ordenador personal los notebooks de prueba que puedas crear durante el curso.*\n"
   ]
  },
  {
   "cell_type": "markdown",
   "metadata": {},
   "source": [
    "## 1.4 Errores\n",
    "Python es un lenguaje, y como los lenguajes naturales que usamos los humanos, tiene unas reglas. Sus diferencias fundamentales con un lenguaje natural son las siguientes:\n",
    "1. Sus reglas son *simples*. Puedes aprender la mayoría de ellas en unas pocas semanas y dominarlas en un cuatrimestre. No crees que sean simples? Prueba a hacer lo mismo con el Mandarín o el Ruso...🇨🇳 🇷🇺\n",
    "2. Las reglas son *rígidas*. Si dominas un lenguaje natural, puedes entender a alguien que esté empezando a hablarlo (a.k.a. GUIRI) ignorando los fallos sin importancia. Sin embargo, un intérprete de Python no es tan inteligente.\n",
    "\n",
    "Por lo tanto, siempre que escribas código, cometerás errores. Cuando escribas código en una celda y éste contenga errores, Python producirá mensajes de error diciéndote lo que has hecho mal.\n",
    "\n",
    "No hay nada malo en cometer errores! He conocido programadores muy buenos que cometían errores continuamente: Lo importante es saber de dónde vienen esos errores y qué hay que hacer para solucionarlos. Una vez lo hayas hecho, puedes pasar a la siguiente tarea. Cuanta más experiencia tengas en un lenguaje, más rápido serás capaz de arreglar errores más complejos.\n",
    "\n",
    "Por ejemplo, la siguiente celda tiene un error. Mira lo que pasa cuando la ejecutas:"
   ]
  },
  {
   "cell_type": "code",
   "execution_count": null,
   "metadata": {},
   "outputs": [],
   "source": [
    "print(\"A esto parece faltarle algo 🤔\""
   ]
  },
  {
   "cell_type": "markdown",
   "metadata": {},
   "source": [
    "Deberías ver algo parecido a esto (salvo las anotaciones):\n",
    "\n",
    "![Error](error.png \"Mensaje de error al ejecutar una expresión malformada\")\n",
    "\n",
    "La última línea del error intenta decirte qué es lo que ha ido mal con esa expresión. La *sintaxis* de un lenguaje hace referencia a su estructura, y este *SyntaxError* (Error Sintáctico) te dice que has creado una estructura ilegal de acuerdo a las reglas del lenguaje. \"EOF\" significa \"fin de fichero\" (End Of File), lo que te dice que Python esperaba haber encontrado algo más antes de llegar al final del texto. \n",
    "\n",
    "Hay mucha otra terminología en los lenguajes de programación pero no te asustes! No necesitas saberla toda para programar de manera eficiente. La mayoría de las veces podrás hacer funcionar tu código aunque estos mensajes te suenen a chino. (Y siempre puedes preguntar a tus compañero/as 😅).\n",
    "\n",
    "### Ejercicio: Trata de arreglar la expresión de arriba para que no dé error. "
   ]
  }
 ],
 "metadata": {
  "kernelspec": {
   "display_name": "Python 3",
   "language": "python",
   "name": "python3"
  },
  "language_info": {
   "codemirror_mode": {
    "name": "ipython",
    "version": 3
   },
   "file_extension": ".py",
   "mimetype": "text/x-python",
   "name": "python",
   "nbconvert_exporter": "python",
   "pygments_lexer": "ipython3",
   "version": "3.7.4"
  }
 },
 "nbformat": 4,
 "nbformat_minor": 2
}
