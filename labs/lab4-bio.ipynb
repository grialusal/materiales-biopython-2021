{
 "cells": [
  {
   "cell_type": "markdown",
   "metadata": {},
   "source": [
    "# Lab 4: Más tipos de datos: Diccionarios y Conjuntos\n",
    "## 1. Diccionarios\n",
    "Un tipo muy conocido de abstracciones de datos en Python son los **diccionarios**, también llamados a veces **listas asociativas**\n",
    "\n",
    "Conceptualmente, un diccionario es un conjunto desordenado de elementos (a diferencia de las listas, que están ordenadas). Los elementos del diccionario son parejas **clave-valor** y se separan entre ellos mediante comas. Además, los elementos pertenecientes a un mismo diccionario se delimitan mediante el uso de llaves {}. Tanto la clave como el valor han de ser tipos válidos en Python (int, string, etc.), con la salvedad de que en el caso de las claves han de ser tipos **inmutables**.\n",
    "\n",
    "**Ojo! Los diccionarios NO son secuencias y tienen su propio tipo! Por lo tanto no soportan las mismas operaciones.**\n",
    "\n",
    "### 1.1 Acceder y modificar valores\n",
    "Los elementos en los diccionarios, a diferencia de las listas, son accedidos mediante su clave y no su posición (ya que **no tienen orden**). \n",
    "\n",
    "Cada elemento especificado por una clave es único en el diccionario (Tan sólo hay un elemento asociado a cada clave). \n",
    "\n",
    "Vamos a verlo con unos ejemplos:\n"
   ]
  },
  {
   "cell_type": "code",
   "execution_count": 2,
   "metadata": {},
   "outputs": [
    {
     "name": "stdout",
     "output_type": "stream",
     "text": [
      "{}\n",
      "{}\n"
     ]
    }
   ],
   "source": [
    "#Definiendo diccionarios (En este caso diccionarios vacíos. Podemos usar las llaves o la palabra reservada \"dict\")\n",
    "dic_vacio = {} \n",
    "dic_vacio_2 = dict()\n",
    "print(dic_vacio)\n",
    "print(dic_vacio_2)"
   ]
  },
  {
   "cell_type": "code",
   "execution_count": 3,
   "metadata": {},
   "outputs": [
    {
     "name": "stdout",
     "output_type": "stream",
     "text": [
      "{'nombre': 'Maria Gonzalez', 'direccion': 'Rios Rosas 52', 'saldo': 500}\n",
      "{'nombre': 'Pedro Lopez', 'direccion': 'Portugalete 10', 'saldo': 200}\n",
      "{'nombre': 'Juan Lanas', 'direccion': 'Gran Vía 2', 'saldo': 1000}\n"
     ]
    }
   ],
   "source": [
    "#Inicializando diccionarios no vacíos\n",
    "cliente_1 = {\"nombre\" : \"Maria Gonzalez\", \n",
    "             \"direccion\" : \"Rios Rosas 52\",\n",
    "             \"saldo\" : 500}\n",
    "\n",
    "#También puedo inicializar un diccionario con una tupla (o lista) de tuplas clave-valor:\n",
    "cliente_2 = dict(((\"nombre\", \"Pedro Lopez\"), \n",
    "                  (\"direccion\", \"Portugalete 10\"), \n",
    "                  (\"saldo\", 200)))\n",
    "\n",
    "#O usando la función zip para crear las tuplas, si tengo las claves y valores en listas separadas:\n",
    "claves = [\"nombre\", \"direccion\", \"saldo\"]\n",
    "valores = [\"Juan Lanas\", \"Gran Vía 2\", 1000]\n",
    "\n",
    "cliente_3 = dict(zip(claves, valores)) \n",
    "\n",
    "print(cliente_1)\n",
    "print(cliente_2)\n",
    "print(cliente_3)"
   ]
  },
  {
   "cell_type": "code",
   "execution_count": 4,
   "metadata": {},
   "outputs": [
    {
     "name": "stdout",
     "output_type": "stream",
     "text": [
      "Maria Gonzalez\n",
      "200\n"
     ]
    }
   ],
   "source": [
    "#Accediendo a los valores de un diccionario (corchetes)\n",
    "print(cliente_1['nombre'])\n",
    "print(cliente_2['saldo'])"
   ]
  },
  {
   "cell_type": "code",
   "execution_count": 5,
   "metadata": {},
   "outputs": [
    {
     "ename": "KeyError",
     "evalue": "1",
     "output_type": "error",
     "traceback": [
      "\u001b[0;31m---------------------------------------------------------------------------\u001b[0m",
      "\u001b[0;31mKeyError\u001b[0m                                  Traceback (most recent call last)",
      "\u001b[0;32m/tmp/ipykernel_675797/1400056220.py\u001b[0m in \u001b[0;36m<module>\u001b[0;34m\u001b[0m\n\u001b[1;32m      1\u001b[0m \u001b[0;31m#Ya que no hay orden no puedo hacer cosas como:\u001b[0m\u001b[0;34m\u001b[0m\u001b[0;34m\u001b[0m\u001b[0;34m\u001b[0m\u001b[0m\n\u001b[0;32m----> 2\u001b[0;31m \u001b[0mcliente_1\u001b[0m\u001b[0;34m[\u001b[0m\u001b[0;36m1\u001b[0m\u001b[0;34m]\u001b[0m\u001b[0;34m\u001b[0m\u001b[0;34m\u001b[0m\u001b[0m\n\u001b[0m",
      "\u001b[0;31mKeyError\u001b[0m: 1"
     ]
    }
   ],
   "source": [
    "#Ya que no hay orden no puedo hacer cosas como:\n",
    "cliente_1[1]"
   ]
  },
  {
   "cell_type": "code",
   "execution_count": 6,
   "metadata": {},
   "outputs": [
    {
     "ename": "KeyError",
     "evalue": "'edad'",
     "output_type": "error",
     "traceback": [
      "\u001b[0;31m---------------------------------------------------------------------------\u001b[0m",
      "\u001b[0;31mKeyError\u001b[0m                                  Traceback (most recent call last)",
      "\u001b[0;32m/tmp/ipykernel_675797/2479717571.py\u001b[0m in \u001b[0;36m<module>\u001b[0;34m\u001b[0m\n\u001b[1;32m      1\u001b[0m \u001b[0;31m#También obtendremos error si intentamos acceder al valor de una clave inexistente:\u001b[0m\u001b[0;34m\u001b[0m\u001b[0;34m\u001b[0m\u001b[0;34m\u001b[0m\u001b[0m\n\u001b[0;32m----> 2\u001b[0;31m \u001b[0mcliente_1\u001b[0m\u001b[0;34m[\u001b[0m\u001b[0;34m'edad'\u001b[0m\u001b[0;34m]\u001b[0m\u001b[0;34m\u001b[0m\u001b[0;34m\u001b[0m\u001b[0m\n\u001b[0m",
      "\u001b[0;31mKeyError\u001b[0m: 'edad'"
     ]
    }
   ],
   "source": [
    "#También obtendremos error si intentamos acceder al valor de una clave inexistente:\n",
    "cliente_1['edad']"
   ]
  },
  {
   "cell_type": "code",
   "execution_count": 7,
   "metadata": {},
   "outputs": [
    {
     "name": "stdout",
     "output_type": "stream",
     "text": [
      "{'nombre': 'Maria Gonzalez', 'direccion': 'Gran Vía 25', 'saldo': 500, 'edad': 25}\n",
      "{'nombre': 'Pedro Lopez', 'direccion': 'Portugalete 10', 'saldo': 200, 'edad': 34}\n"
     ]
    }
   ],
   "source": [
    "#Modificando y actualizando diccionarios previamente declarados\n",
    "#Vamos a usar la notación de corchetes:\n",
    "cliente_1['edad'] = 25\n",
    "cliente_2['edad'] = 34\n",
    "cliente_1['direccion'] = \"Gran Vía 25\"\n",
    "print(cliente_1)\n",
    "print(cliente_2)"
   ]
  },
  {
   "cell_type": "markdown",
   "metadata": {},
   "source": [
    "### 1.2 Eliminar pares\n",
    "Una operación común que haremos sobre los diccionarios es la de eliminar un par clave-valor. Para ello usaremos la palabra reservada **del** o las operación **pop()**, que ya vimos en las listas, aunque ahora se define de manera ligeramente diferente o **popitem()**."
   ]
  },
  {
   "cell_type": "code",
   "execution_count": 8,
   "metadata": {},
   "outputs": [
    {
     "name": "stdout",
     "output_type": "stream",
     "text": [
      "{'nombre': 'Maria Gonzalez', 'direccion': 'Gran Vía 25', 'saldo': 500}\n"
     ]
    }
   ],
   "source": [
    "#Eliminamos la clave edad y su valor correspondiente\n",
    "del cliente_1['edad']\n",
    "print(cliente_1)"
   ]
  },
  {
   "cell_type": "markdown",
   "metadata": {},
   "source": [
    "#### \"Cuando haces pop()\"\n",
    "En el caso de **pop()** (recuerda lo visto en listas), queremos eliminar un elemento del diccionario pero salvándolo a una variable sobre la que podamos operar con él. Recordemos que en las listas la operación **pop()** extraía el último elemento de la lista en cuestión pero entonces ¿Tiene sentido usar pop en un diccionario, cuando sabemos que no tiene orden?\n",
    "\n",
    "La respuesta es que sí, ya que en este caso **pop()** no realiza exactamente lo mismo. Para un diccionario D y una clave k, *D.pop(k)* va a eliminar la clave k devolviendo el valor correspondiente:"
   ]
  },
  {
   "cell_type": "code",
   "execution_count": 9,
   "metadata": {},
   "outputs": [
    {
     "name": "stdout",
     "output_type": "stream",
     "text": [
      "34\n",
      "{'nombre': 'Pedro Lopez', 'direccion': 'Portugalete 10', 'saldo': 200}\n"
     ]
    }
   ],
   "source": [
    "v = cliente_2.pop('edad')\n",
    "print(v)\n",
    "print(cliente_2)"
   ]
  },
  {
   "cell_type": "code",
   "execution_count": 10,
   "metadata": {},
   "outputs": [
    {
     "ename": "KeyError",
     "evalue": "'edad'",
     "output_type": "error",
     "traceback": [
      "\u001b[0;31m---------------------------------------------------------------------------\u001b[0m",
      "\u001b[0;31mKeyError\u001b[0m                                  Traceback (most recent call last)",
      "\u001b[0;32m/tmp/ipykernel_675797/952018720.py\u001b[0m in \u001b[0;36m<module>\u001b[0;34m\u001b[0m\n\u001b[1;32m      1\u001b[0m \u001b[0;31m#La clave tendrá que existir u obtendremos un error:\u001b[0m\u001b[0;34m\u001b[0m\u001b[0;34m\u001b[0m\u001b[0;34m\u001b[0m\u001b[0m\n\u001b[0;32m----> 2\u001b[0;31m \u001b[0mcliente_2\u001b[0m\u001b[0;34m.\u001b[0m\u001b[0mpop\u001b[0m\u001b[0;34m(\u001b[0m\u001b[0;34m'edad'\u001b[0m\u001b[0;34m)\u001b[0m\u001b[0;34m\u001b[0m\u001b[0;34m\u001b[0m\u001b[0m\n\u001b[0m",
      "\u001b[0;31mKeyError\u001b[0m: 'edad'"
     ]
    }
   ],
   "source": [
    "#La clave tendrá que existir u obtendremos un error:\n",
    "cliente_2.pop('edad')"
   ]
  },
  {
   "cell_type": "markdown",
   "metadata": {},
   "source": [
    "#### popitem()\n",
    "El caso de **popitem()** es ligeramente diferente: no acepta ningún parámetro y elimina un elemento devolviendo el par clave-valor en forma de **tupla**. Esto es muy conveniente cuando queremos procesar y descartar los elementos de un diccionario uno a uno:"
   ]
  },
  {
   "cell_type": "code",
   "execution_count": 11,
   "metadata": {},
   "outputs": [
    {
     "name": "stdout",
     "output_type": "stream",
     "text": [
      "Zaragoza Aragón\n",
      "Vitoria-Gasteiz País Vasco\n"
     ]
    }
   ],
   "source": [
    "#El orden en el que se devuelven los elementos es arbitrario. \n",
    "#estado, capital es una tupla (Una nueva manera de usar las tuplas es usar una variable para guardar cada elemento de las mismas)\n",
    "capitales = {\"Valladolid\":\"Castilla y Leon\", \"Sevilla\":\"Andalucía\", \"Barcelona\": \"Cataluña\", \"Santiago de Compostela\":\"Galicia\", \"Vitoria-Gasteiz\":\"País Vasco\", \"Zaragoza\":\"Aragón\"}\n",
    "estado, capital = capitales.popitem()\n",
    "otra_tupla = capitales.popitem()\n",
    "print(estado, capital)\n",
    "print(otra_tupla[0], otra_tupla[1])"
   ]
  },
  {
   "cell_type": "code",
   "execution_count": 12,
   "metadata": {},
   "outputs": [
    {
     "name": "stdout",
     "output_type": "stream",
     "text": [
      "ZaragozaZaragoza AragónAragón\n",
      "Vitoria-GasteizVitoria-Gasteiz País VascoPaís Vasco\n",
      "Santiago de CompostelaSantiago de Compostela GaliciaGalicia\n",
      "BarcelonaBarcelona CataluñaCataluña\n",
      "SevillaSevilla AndalucíaAndalucía\n",
      "ValladolidValladolid Castilla y LeonCastilla y Leon\n"
     ]
    }
   ],
   "source": [
    "capitales = {\"Valladolid\":\"Castilla y Leon\", \"Sevilla\":\"Andalucía\", \"Barcelona\": \"Cataluña\", \"Santiago de Compostela\":\"Galicia\", \"Vitoria-Gasteiz\":\"País Vasco\", \"Zaragoza\":\"Aragón\"}\n",
    "\n",
    "while len(capitales.keys()) > 0:\n",
    "    \n",
    "    cap, prov = capitales.popitem()\n",
    "    print(cap*2, prov*2)"
   ]
  },
  {
   "cell_type": "markdown",
   "metadata": {},
   "source": [
    "### 1.3 Comprobar si existe una clave\n",
    "Hemos visto que si intentamos acceder a una clave inexistente en el diccionario obtendremos un error. Sin embargo hay una manera de evitar esto, comprobando si un diccionario contiene cierta clave usando los operadores **in** y **not in** que vimos en otros labs."
   ]
  },
  {
   "cell_type": "code",
   "execution_count": 14,
   "metadata": {},
   "outputs": [
    {
     "name": "stdout",
     "output_type": "stream",
     "text": [
      "No se de qué comunidad autónoma es capital Toledo 😔\n"
     ]
    }
   ],
   "source": [
    "if \"Valladolid\" in capitales:\n",
    "    print('La capital de ' + capitales[\"Valladolid\"] + ' es Valladolid')\n",
    "if \"Toledo\" not in capitales:\n",
    "          print(\"No se de qué comunidad autónoma es capital Toledo 😔\")"
   ]
  },
  {
   "cell_type": "markdown",
   "metadata": {},
   "source": [
    "Otra manera es usar **get()**, que no devuelve un error si no existe la clave, sino que devuelve None (palabra y tipo reservados)."
   ]
  },
  {
   "cell_type": "code",
   "execution_count": 15,
   "metadata": {},
   "outputs": [
    {
     "name": "stdout",
     "output_type": "stream",
     "text": [
      "None\n",
      "None\n"
     ]
    }
   ],
   "source": [
    "print(capitales.get('Valladolid'))\n",
    "print(capitales.get('Toledo'))"
   ]
  },
  {
   "cell_type": "markdown",
   "metadata": {},
   "source": [
    "### 1.4 Copiando diccionarios\n",
    "Los diccionarios se pueden copiar usando la función **copy()**.\n",
    "¡Cuidado! Se realiza una copia superficial, por lo que las modificaciones a elementos aninados siguen afectando a las copias."
   ]
  },
  {
   "cell_type": "code",
   "execution_count": 17,
   "metadata": {},
   "outputs": [
    {
     "name": "stdout",
     "output_type": "stream",
     "text": [
      "{'curso1': {'titulo': 'Introducción a Python', 'localidad': 'Madrid', 'instructor': 'Dr. Acula'}, 'curso2': {'titulo': 'Javascript Avanzado', 'localidad': 'Salamanca', 'instructor': 'Abel Benito'}, 'curso3': {'titulo': 'Procesamiento de Textos', 'localidad': 'Zamora', 'instructor': 'Armando Guerra'}}\n",
      "{'curso1': {'titulo': 'Introducción a Python', 'localidad': 'Madrid', 'instructor': 'Dr. Acula'}, 'curso2': {'titulo': 'Seminario de Latex para Principiantes', 'localidad': 'Salamanca', 'instructor': 'Yola Prieto'}, 'curso3': {'titulo': 'Procesamiento de Textos', 'localidad': 'Zamora', 'instructor': 'Armando Guerra'}}\n",
      "{'curso1': {'titulo': 'Introducción a Python', 'localidad': 'Madrid', 'instructor': 'Dr. Acula'}, 'curso2': {'titulo': 'Javascript Avanzado', 'localidad': 'Salamanca', 'instructor': 'Abel Benito'}, 'curso3': {'titulo': 'Procesamiento de Textos', 'localidad': 'Zamora', 'instructor': 'Armando Guerra'}}\n"
     ]
    }
   ],
   "source": [
    "from copy import copy\n",
    "\n",
    "cursos = { \"curso1\":{\"titulo\":\"Introducción a Python\", \n",
    "                         \"localidad\":\"Madrid\", \n",
    "                         \"instructor\":\"Dr. Acula\"},\n",
    "              \"curso2\":{\"titulo\":\"Python Avanzado\",\n",
    "                         \"localidad\":\"Salamanca\",\n",
    "                         \"instructor\":\"Abel Benito\"},\n",
    "              \"curso3\":{\"titulo\":\"Procesamiento de Textos\",\n",
    "                         \"localidad\":\"Zamora\",\n",
    "                         \"instructor\":\"Armando Guerra\"}\n",
    "              }\n",
    "\n",
    "cursos_copia = copy(cursos)\n",
    "cursos[\"curso2\"][\"titulo\"] = \"Javascript Avanzado\"\n",
    "print(cursos_copia)\n",
    "\n",
    "##Sin embargo si añadimos un nuevo elemento, funciona como esperamos\n",
    "cursos[\"curso2\"] = {\"titulo\":\"Seminario de Latex para Principiantes\",\n",
    "                         \"localidad\":\"Salamanca\",\n",
    "                         \"instructor\":\"Yola Prieto\"}\n",
    "\n",
    "print(cursos)\n",
    "print(cursos_copia)\n"
   ]
  },
  {
   "cell_type": "markdown",
   "metadata": {},
   "source": [
    "### 1.5 Limpiando\n",
    "Por último, el diccionario puede ser limpiado (no borrado!) con el método **clear()**"
   ]
  },
  {
   "cell_type": "code",
   "execution_count": 18,
   "metadata": {},
   "outputs": [
    {
     "name": "stdout",
     "output_type": "stream",
     "text": [
      "{}\n"
     ]
    }
   ],
   "source": [
    "cursos.clear()\n",
    "print(cursos)"
   ]
  },
  {
   "cell_type": "markdown",
   "metadata": {},
   "source": [
    "### 1.6. Más operaciones: concatenar e iterar:\n",
    "De manera análoga a como concatenábamos listas, podemos hacer lo mismo con diccionarios usando el método **update(dict)**. Este método une las claves y valores de un diccionario, sobreescribiendo los valores para claves repetidas."
   ]
  },
  {
   "cell_type": "code",
   "execution_count": 19,
   "metadata": {},
   "outputs": [
    {
     "name": "stdout",
     "output_type": "stream",
     "text": [
      "{'curso2': {'titulo': 'Seminario de Javascript para Principiantes', 'localidad': 'Valladolid', 'instructor': 'Dolores Fuertes'}}\n"
     ]
    }
   ],
   "source": [
    "cursos.update({\"curso2\": {\"titulo\" : \"Seminario de Javascript para Principiantes\",\n",
    "                         \"localidad\":\"Valladolid\",\n",
    "                         \"instructor\":\"Dolores Fuertes\"}})\n",
    "\n",
    "print(cursos)"
   ]
  },
  {
   "cell_type": "markdown",
   "metadata": {},
   "source": [
    "Para iterar utilizaremos el ya conocido operador for ... in y las funciones keys() y values(), que devuelven listas con las claves y valores del diccionario, respectivamente."
   ]
  },
  {
   "cell_type": "code",
   "execution_count": 20,
   "metadata": {},
   "outputs": [
    {
     "name": "stdout",
     "output_type": "stream",
     "text": [
      "curso2\n",
      "#########\n",
      "curso2\n",
      "#########\n",
      "{'titulo': 'Seminario de Javascript para Principiantes', 'localidad': 'Valladolid', 'instructor': 'Dolores Fuertes'}\n",
      "#########\n",
      "{'titulo': 'Seminario de Javascript para Principiantes', 'localidad': 'Valladolid', 'instructor': 'Dolores Fuertes'}\n",
      "#########\n",
      "curso2\n",
      "{'titulo': 'Seminario de Javascript para Principiantes', 'localidad': 'Valladolid', 'instructor': 'Dolores Fuertes'}\n"
     ]
    }
   ],
   "source": [
    "for curso in cursos:\n",
    "    print(curso)\n",
    "\n",
    "print('#########')\n",
    "\n",
    "for clave in cursos.keys():\n",
    "    print(clave)\n",
    "    \n",
    "print('#########')\n",
    "    \n",
    "for value in cursos.values():\n",
    "    print(value)\n",
    "\n",
    "print('#########')\n",
    "\n",
    "#Más lento\n",
    "for clave in cursos.keys():\n",
    "    print(cursos[clave])\n",
    "\n",
    "print('#########')\n",
    "#Tuplas clave-valor\n",
    "for clave, valor in cursos.items():\n",
    "    print(clave)\n",
    "    print(valor)\n"
   ]
  },
  {
   "cell_type": "code",
   "execution_count": null,
   "metadata": {},
   "outputs": [],
   "source": []
  },
  {
   "cell_type": "markdown",
   "metadata": {},
   "source": [
    "## 2. Conjuntos\n",
    "La teoría de conjuntos es una rama de la lógica matemática que estudia las colecciones de objetos y es parte integral de las matemáticas modernas. \n",
    "En lo que nos atañe, los miembros de los conjuntos pueden ser cualquier cosa, por ejemplo: números, caracteres, palabras, nombres, letras, listas e incluso otros conjuntos. \n",
    "\n",
    "![imagen de conjuntos](img/conjuntos.png)\n",
    "\n",
    "Los representantes de los conjuntos en Python son las colecciones **set** (conjunto) y **frozenset** (conjunto congelado). Los conjuntos son colecciones **desordenadas** de elementos **únicos** (no puede haber dos elementos iguales), así que a diferencia de las listas, no podrán contener múltiples ocurrencias del mismo elemento (por ejemplo la misma cadena).\n",
    "\n",
    "Para crear un conjunto en Python, vamos a usar la función built-in **set()** o las llaves {}, a la que le pasaremos como argumento una secuencia:"
   ]
  },
  {
   "cell_type": "code",
   "execution_count": 19,
   "metadata": {},
   "outputs": [
    {
     "name": "stdout",
     "output_type": "stream",
     "text": [
      "{'a', 'g', 'c', 't'}\n",
      "{'Azul', 'Negro', 'Blanco'}\n"
     ]
    }
   ],
   "source": [
    "#Para crear un conjunto podemos usar una cadena:\n",
    "x = set(\"Esto son los elementos\")\n",
    "print(x) #Los conjuntos no tienen orden!\n",
    "\n",
    "#O bien una lista\n",
    "y = set([\"Azul\", \"Negro\", \"Blanco\"])\n",
    "print(y)\n"
   ]
  },
  {
   "cell_type": "markdown",
   "metadata": {},
   "source": [
    "Fíjate lo que ha pasado en el conjunto x: Los elementos se han desordenado y por ejemplo la letra \"o\" sólo aparece una vez, aunque en la frase original había más de una. Esto es porque la comparación 'o' == 'o' devuelve True, o lo que es lo mismo, los objetos son iguales.\n",
    "Siguiendo la misma lógica, ¿qué pasaría con las tuplas?"
   ]
  },
  {
   "cell_type": "code",
   "execution_count": 4,
   "metadata": {},
   "outputs": [
    {
     "name": "stdout",
     "output_type": "stream",
     "text": [
      "{'Gijón', 'Barcelona', 'Cáceres', 'Bilbao', 'Salamanca', 'Zamora'}\n",
      "{'Bilbao', 'Coruña', 'Salamanca'}\n"
     ]
    }
   ],
   "source": [
    "ciudades = set((\"Salamanca\", \"Bilbao\", \"Barcelona\", \"Cáceres\", \"Zamora\", \"Gijón\", \"Salamanca\")) #usando set()\n",
    "print(ciudades) # la segunda aparición de Salamanca también es rechazada.\n",
    "ciudades_bis = {\"Salamanca\", \"Bilbao\", \"Coruña\"} # usando llaves\n",
    "print(ciudades_bis)"
   ]
  },
  {
   "cell_type": "markdown",
   "metadata": {},
   "source": [
    "### 2.1. Los conjuntos sólo admiten objetos inmutables\n",
    "Los conjuntos por defecto no permiten incluir objectos mutables como elementos debido al hecho de que serían muy costosos de mantener en memoria. Si algo puede mutar en cualquier momento, todo el conjunto debería ser reevaluado para comprobar que es consistente. En el caso de listas, y por las razones que vimos en sesiones anteriores, esto sería especialmente complicado.\n",
    "\n",
    "Esta es la razón por la que no se pueden incluir listas como elementos:"
   ]
  },
  {
   "cell_type": "code",
   "execution_count": 5,
   "metadata": {},
   "outputs": [
    {
     "name": "stdout",
     "output_type": "stream",
     "text": [
      "{('Barcelona', 'Madrid', 'Zamora'), ('Salamanca', 'Bilbao')}\n"
     ]
    },
    {
     "ename": "TypeError",
     "evalue": "unhashable type: 'list'",
     "output_type": "error",
     "traceback": [
      "\u001b[0;31m---------------------------------------------------------------------------\u001b[0m",
      "\u001b[0;31mTypeError\u001b[0m                                 Traceback (most recent call last)",
      "\u001b[0;32m<ipython-input-5-a77e3f41579e>\u001b[0m in \u001b[0;36m<module>\u001b[0;34m\u001b[0m\n\u001b[1;32m      1\u001b[0m \u001b[0mciudades_2\u001b[0m \u001b[0;34m=\u001b[0m \u001b[0mset\u001b[0m\u001b[0;34m(\u001b[0m\u001b[0;34m(\u001b[0m\u001b[0;34m(\u001b[0m\u001b[0;34m\"Salamanca\"\u001b[0m\u001b[0;34m,\u001b[0m \u001b[0;34m\"Bilbao\"\u001b[0m\u001b[0;34m)\u001b[0m\u001b[0;34m,\u001b[0m \u001b[0;34m(\u001b[0m\u001b[0;34m\"Barcelona\"\u001b[0m\u001b[0;34m,\u001b[0m \u001b[0;34m\"Madrid\"\u001b[0m\u001b[0;34m,\u001b[0m \u001b[0;34m\"Zamora\"\u001b[0m\u001b[0;34m)\u001b[0m\u001b[0;34m)\u001b[0m\u001b[0;34m)\u001b[0m\u001b[0;34m\u001b[0m\u001b[0m\n\u001b[1;32m      2\u001b[0m \u001b[0mprint\u001b[0m\u001b[0;34m(\u001b[0m\u001b[0mciudades_2\u001b[0m\u001b[0;34m)\u001b[0m\u001b[0;34m\u001b[0m\u001b[0m\n\u001b[0;32m----> 3\u001b[0;31m \u001b[0mciudades_3\u001b[0m \u001b[0;34m=\u001b[0m \u001b[0mset\u001b[0m\u001b[0;34m(\u001b[0m\u001b[0;34m(\u001b[0m\u001b[0;34m[\u001b[0m\u001b[0;34m\"Salamanca\"\u001b[0m\u001b[0;34m,\u001b[0m \u001b[0;34m\"Bilbao\"\u001b[0m\u001b[0;34m]\u001b[0m\u001b[0;34m,\u001b[0m \u001b[0;34m[\u001b[0m\u001b[0;34m\"Barcelona\"\u001b[0m\u001b[0;34m,\u001b[0m \u001b[0;34m\"Madrid\"\u001b[0m\u001b[0;34m,\u001b[0m \u001b[0;34m\"Zamora\"\u001b[0m\u001b[0;34m]\u001b[0m\u001b[0;34m)\u001b[0m\u001b[0;34m)\u001b[0m \u001b[0;31m#OPPPS!\u001b[0m\u001b[0;34m\u001b[0m\u001b[0m\n\u001b[0m",
      "\u001b[0;31mTypeError\u001b[0m: unhashable type: 'list'"
     ]
    }
   ],
   "source": [
    "ciudades_2 = set(((\"Salamanca\", \"Bilbao\"), (\"Barcelona\", \"Madrid\", \"Zamora\")))\n",
    "print(ciudades_2)\n",
    "ciudades_3 = set(([\"Salamanca\", \"Bilbao\"], [\"Barcelona\", \"Madrid\", \"Zamora\"])) #OPPPS!"
   ]
  },
  {
   "cell_type": "markdown",
   "metadata": {},
   "source": [
    "### 2.2. Operaciones\n",
    "Como es de esperar, los conjuntos, como el resto de colecciones que hemos visto a lo largo del curso, también soportan operaciones que detallamos a continuación:"
   ]
  },
  {
   "cell_type": "markdown",
   "metadata": {},
   "source": [
    "### Añadir, quitar, modificar"
   ]
  },
  {
   "cell_type": "code",
   "execution_count": 6,
   "metadata": {},
   "outputs": [
    {
     "name": "stdout",
     "output_type": "stream",
     "text": [
      "colores vale:  {'rojo', 'azul', 'amarillo'}\n",
      "añado 'verde'\n",
      "colores vale:  {'rojo', 'verde', 'azul', 'amarillo'}\n",
      "añado 'rojo'\n",
      "colores vale:  {'rojo', 'verde', 'azul', 'amarillo'}\n"
     ]
    }
   ],
   "source": [
    "### add(elemento)\n",
    "## Un método que añade un elemento, que tiene que ser inmutable, a un conjunto.\n",
    "colores = {\"rojo\", \"amarillo\", \"azul\"}\n",
    "print(\"colores vale: \", colores)\n",
    "print(\"añado 'verde'\")\n",
    "colores.add(\"verde\")\n",
    "print(\"colores vale: \", colores)\n",
    "print(\"añado 'rojo'\")\n",
    "colores.add(\"rojo\")\n",
    "print(\"colores vale: \", colores)"
   ]
  },
  {
   "cell_type": "code",
   "execution_count": 7,
   "metadata": {},
   "outputs": [
    {
     "name": "stdout",
     "output_type": "stream",
     "text": [
      "set()\n"
     ]
    }
   ],
   "source": [
    "### clear()\n",
    "## Elimina todos los elementos del conjunto\n",
    "ciudades_5 = {\"Salamanca\", \"Zamora\", \"León\", \"Palencia\"}\n",
    "ciudades_5.clear()\n",
    "print(ciudades_5)"
   ]
  },
  {
   "cell_type": "code",
   "execution_count": 9,
   "metadata": {},
   "outputs": [
    {
     "name": "stdout",
     "output_type": "stream",
     "text": [
      "{'Teruel', 'Valladolid', 'Albacete'}\n",
      "set()\n"
     ]
    }
   ],
   "source": [
    "### copy()\n",
    "## Crea una copia superficial del conjunto.\n",
    "ciudades_6 = {\"Valladolid\", \"Teruel\", \"Albacete\"}\n",
    "ciudades_6_copia = ciudades_6.copy()\n",
    "ciudades_6_copia_bis = ciudades_6\n",
    "ciudades_6.clear()\n",
    "\n",
    "##Qué pasa aqui??\n",
    "print(ciudades_6_copia)\n",
    "print(ciudades_6_copia_bis)"
   ]
  },
  {
   "cell_type": "code",
   "execution_count": 10,
   "metadata": {},
   "outputs": [
    {
     "name": "stdout",
     "output_type": "stream",
     "text": [
      "x vale:  {'a', 'e', 'c', 'd', 'b'}\n",
      "y vale:  {'c', 'b'}\n",
      "z vale:  {'c', 'd'}\n",
      "\n",
      "x - y =  {'a', 'e', 'd'}\n",
      "y - x =  {'a', 'e', 'd'}\n",
      "x - y =  {'a', 'e', 'b'}\n"
     ]
    }
   ],
   "source": [
    "### difference()\n",
    "## Devuelve la diferencia entre dos o mas conjuntos en un nuevo conjunto\n",
    "x = {\"a\", \"b\", \"c\", \"d\", \"e\"}\n",
    "print(\"x vale: \", x)\n",
    "y = {\"b\", \"c\"}\n",
    "print(\"y vale: \", y)\n",
    "z = {\"c\", \"d\"}\n",
    "print(\"z vale: \", z)\n",
    "print()\n",
    "print('x - y = ', x.difference(y))\n",
    "print('y - x = ', x.difference(y))\n",
    "\n",
    "## O simplemente usando el operador -\n",
    "print('x - y = ', x - z)"
   ]
  },
  {
   "cell_type": "code",
   "execution_count": 11,
   "metadata": {},
   "outputs": [
    {
     "name": "stdout",
     "output_type": "stream",
     "text": [
      "x vale:  {'a', 'e', 'c', 'd', 'b'}\n",
      "y vale:  {'c', 'b'}\n",
      "x.difference_update(y) =  {'e', 'a', 'd'}\n"
     ]
    }
   ],
   "source": [
    "### difference_update()\n",
    "## Igual que difference(), salvo que al conjunto que \n",
    "## ejecuta este método se le sustraen los elementos de un segundo conjunto, quedando así modificado\n",
    "## Se puede interpretar como x = x - y (x-=y)\n",
    "x = {\"a\", \"b\", \"c\", \"d\", \"e\"}\n",
    "print(\"x vale: \", x)\n",
    "y = {\"b\", \"c\"}\n",
    "print(\"y vale: \", y)\n",
    "\n",
    "x.difference_update(y) #operación in-place\n",
    "print(\"x.difference_update(y) = \", x)\n"
   ]
  },
  {
   "cell_type": "code",
   "execution_count": 12,
   "metadata": {},
   "outputs": [
    {
     "name": "stdout",
     "output_type": "stream",
     "text": [
      "x vale:  {'a', 'e', 'c', 'd', 'b'}\n",
      "Hago x.remove(\"a\")\n",
      "x vale:  {'e', 'c', 'd', 'b'}\n",
      "x.pop() =  e\n",
      "x vale:  {'c', 'd', 'b'}\n"
     ]
    }
   ],
   "source": [
    "### remove() y discard()\n",
    "## Para eliminar objetos de un conjunto usaremos estas dos funciones.\n",
    "## La diferencia entre ambos es que remove() lanza una excepción si el elemento dado no existe en el conjunto!\n",
    "x = {\"a\",\"b\",\"c\",\"d\",\"e\"}\n",
    "print(\"x vale: \", x)\n",
    "print('Hago x.remove(\"a\")')\n",
    "x.remove(\"a\")\n",
    "print(\"x vale: \", x)\n",
    "\n",
    "a = x.pop()\n",
    "print(\"x.pop() = \", a)\n",
    "print(\"x vale: \", x)"
   ]
  },
  {
   "cell_type": "code",
   "execution_count": 13,
   "metadata": {},
   "outputs": [
    {
     "name": "stdout",
     "output_type": "stream",
     "text": [
      "x.remove(\"c\")\n",
      "x vale:  {'d', 'b'}\n"
     ]
    }
   ],
   "source": [
    "print('x.remove(\"c\")')\n",
    "x.remove(\"c\") # más rápido pero no comprueba existencia (lanza excepción)\n",
    "print(\"x vale: \", x) "
   ]
  },
  {
   "cell_type": "code",
   "execution_count": 15,
   "metadata": {},
   "outputs": [
    {
     "name": "stdout",
     "output_type": "stream",
     "text": [
      "x.discard(\"c\")\n",
      "x vale:  {'d', 'b'}\n"
     ]
    }
   ],
   "source": [
    "print('x.discard(\"c\")')\n",
    "x.discard(\"c\") # menos rápido pero más seguro\n",
    "print(\"x vale: \", x) "
   ]
  },
  {
   "cell_type": "markdown",
   "metadata": {},
   "source": [
    "### Operaciones con conjuntos"
   ]
  },
  {
   "cell_type": "code",
   "execution_count": 16,
   "metadata": {},
   "outputs": [
    {
     "name": "stdout",
     "output_type": "stream",
     "text": [
      "x vale:  {'a', 'e', 'c', 'd', 'b'}\n",
      "y vale:  {'e', 'g', 'c', 'd', 'f'}\n",
      "x | y =  {'c', 'f', 'a', 'e', 'd', 'g', 'b'}\n",
      "x & y =  {'e', 'c', 'd'}\n"
     ]
    }
   ],
   "source": [
    "### union() e intersection()\n",
    "## Devuelven la unión y la intersección de dos conjuntos.\n",
    "x = {\"a\",\"b\",\"c\",\"d\",\"e\"}\n",
    "print(\"x vale: \", x) \n",
    "y = {\"c\",\"d\",\"e\",\"f\",\"g\"}\n",
    "print(\"y vale: \", y)\n",
    "print(\"x | y = \", x | y) # o x.union(y)\n",
    "print(\"x & y = \", x & y) # o x.intersection(y)"
   ]
  },
  {
   "cell_type": "code",
   "execution_count": 17,
   "metadata": {},
   "outputs": [
    {
     "name": "stdout",
     "output_type": "stream",
     "text": [
      "x vale:  {'a', 'e', 'c', 'd', 'b'}\n",
      "y vale:  {'g', 'f'}\n",
      "z vale:  {'a', 'b'}\n",
      "x e y son disjuntos? True\n",
      "z es un subconjunto de x? True\n",
      "x es un subconjunto de si mismo? True\n",
      "x es un superconjunto de si mismo? True\n",
      "x es un subconjunto propio de si mismo? False\n",
      "y es un superconjunto propio de si mismo? False\n"
     ]
    }
   ],
   "source": [
    "### isdisjoint(), issubset(), issuperset()\n",
    "## Devuelven True o False dependiendo de si el conjunto que el conjunto sobre el que se invoca el método es\n",
    "## disjunto con el conjunto que se pasa como parámetro o es subconjunto o superconjunto del mismo, respectivamente.\n",
    "x = {\"a\",\"b\",\"c\",\"d\",\"e\"}\n",
    "print(\"x vale: \", x) \n",
    "y = {\"f\", \"g\"}\n",
    "print(\"y vale: \", y) \n",
    "z = {\"a\", \"b\"}\n",
    "print(\"z vale: \", z) \n",
    "\n",
    "print('x e y son disjuntos? ' + str(x.isdisjoint(y)))\n",
    "print('z es un subconjunto de x? ' + str(z.issubset(x)))\n",
    "print('x es un subconjunto de si mismo? ' + str(x.issubset(x)))\n",
    "print('x es un superconjunto de si mismo? ' + str(x.issubset(x)))\n",
    "\n",
    "##Los subconjuntos/superconjuntos propios son aquellos subconjuntos/superconjuntos de un conjunto dado que no son dicho conjunto.\n",
    "##Para expresar esto en python usaremos los símbolos mayor (>) y menor (<) estrictos.\n",
    "##Mayor o igual (>=) o menor o igual (<=) son equivalentes a issuperset y issubset respectivamente.\n",
    "\n",
    "print('x es un subconjunto propio de si mismo? ' + str((x < x)))\n",
    "print('y es un superconjunto propio de si mismo? ' + str(x > x))\n",
    "\n"
   ]
  },
  {
   "cell_type": "markdown",
   "metadata": {},
   "source": [
    "### Ejercicio 1\n",
    "Usando el fichero covid-samples.fasta, calcula, empleando conjuntos, los alfabetos usado en cada una de las secuencias. Después, calcula la intersección entre todas las combinaciones de los alfabetos obtenidos. \n",
    "¿Qué secuencias tienen más simbolos en común?"
   ]
  },
  {
   "cell_type": "markdown",
   "metadata": {},
   "source": [
    "# Extra: comprensión de listas \n",
    "\n",
    "Para final, vamos a ver una sintaxis en Python para crear listas y diccionarios (en general cualquier iterable) a partir de los elementos de otras colecciones. \n",
    "\n",
    "En la comprensión de listas, se utiliza la notación de corchetes con una expresión y un bucle `for`, a la que le pueden seguir más expresiones. La lista que obtendremos será el resultado de evaluar la expresión en el contexto de la cláusula `for` que incluyamos. Vamos a verlo. \n",
    "\n",
    "Imagina que tienes una lista con secuencias, tal que así:"
   ]
  },
  {
   "cell_type": "code",
   "execution_count": 21,
   "metadata": {},
   "outputs": [],
   "source": [
    "seqs = ['cctaagaagcta',\n",
    "       'taatagatggtagaatgtaaaaggcacttttacacttttt',\n",
    "       'tgttatag',\n",
    "       'actcgtgtcctgtcaac',\n",
    "       'caatagtctgaacaactggtgtaagttccatctctaattga',\n",
    "       'tcaa']"
   ]
  },
  {
   "cell_type": "code",
   "execution_count": 22,
   "metadata": {},
   "outputs": [
    {
     "name": "stdout",
     "output_type": "stream",
     "text": [
      "tcaa\n",
      "tgttatag\n",
      "cctaagaagcta\n",
      "actcgtgtcctgtcaac\n",
      "taatagatggtagaatgtaaaaggcacttttacacttttt\n",
      "caatagtctgaacaactggtgtaagttccatctctaattga\n"
     ]
    }
   ],
   "source": [
    "for seq in sorted(seqs, key=lambda seq: len(seq)):\n",
    "    print(seq)"
   ]
  },
  {
   "cell_type": "markdown",
   "metadata": {},
   "source": [
    "Pero, ¿y si queremos almacenar la longitud de cada cadena para luego poder operar con ella? \n",
    "Para esto podemos usar comprensión de listas. \n",
    "Si te digo `seq_lens` que generes una lista con las longitudes de las secuencias en `seqs`, probablemente hagas esto:"
   ]
  },
  {
   "cell_type": "code",
   "execution_count": 23,
   "metadata": {},
   "outputs": [
    {
     "name": "stdout",
     "output_type": "stream",
     "text": [
      "[12, 40, 8, 17, 41, 4]\n"
     ]
    }
   ],
   "source": [
    "seq_lens = []\n",
    "for seq in seqs:\n",
    "    seq_lens.append(len(seq))\n",
    "print(seq_lens)"
   ]
  },
  {
   "cell_type": "markdown",
   "metadata": {},
   "source": [
    "Con comprensión de listas es mucho más fácil y legible:"
   ]
  },
  {
   "cell_type": "code",
   "execution_count": 24,
   "metadata": {},
   "outputs": [
    {
     "name": "stdout",
     "output_type": "stream",
     "text": [
      "[12, 40, 8, 17, 41, 4]\n"
     ]
    }
   ],
   "source": [
    "seq_lens = [ len(seq) for seq in seqs ]\n",
    "print(seq_lens) #Voilá"
   ]
  },
  {
   "cell_type": "markdown",
   "metadata": {},
   "source": [
    "Las listas, como es lógico, puede contener cualquier cosa, incluso diccionarios:"
   ]
  },
  {
   "cell_type": "code",
   "execution_count": 26,
   "metadata": {},
   "outputs": [
    {
     "name": "stdout",
     "output_type": "stream",
     "text": [
      "{'seq': 'cctaagaagcta', 'index': 0, 'len': 12}\n",
      "{'seq': 'taatagatggtagaatgtaaaaggcacttttacacttttt', 'index': 1, 'len': 40}\n",
      "{'seq': 'tgttatag', 'index': 2, 'len': 8}\n",
      "{'seq': 'actcgtgtcctgtcaac', 'index': 3, 'len': 17}\n",
      "{'seq': 'caatagtctgaacaactggtgtaagttccatctctaattga', 'index': 4, 'len': 41}\n",
      "{'seq': 'tcaa', 'index': 5, 'len': 4}\n"
     ]
    }
   ],
   "source": [
    "seq_infos = [{\"seq\": seq, \n",
    "              \"index\": i, \n",
    "              \"len\": len(seq)} for i,seq in enumerate(seqs)]\n",
    "\n",
    "for el in seq_infos:\n",
    "    print(el)"
   ]
  },
  {
   "cell_type": "markdown",
   "metadata": {},
   "source": [
    "También puedo generar diccionarios usando la sintaxis apropiada, aquí uso el índice de la secuencia en la lista original como clave del diccionario:"
   ]
  },
  {
   "cell_type": "code",
   "execution_count": 27,
   "metadata": {},
   "outputs": [],
   "source": [
    "seq_infos_dict = {i : {\"seq\": seq, \"len\": len(seq)} for i,seq in enumerate(seqs)}"
   ]
  },
  {
   "cell_type": "code",
   "execution_count": 28,
   "metadata": {},
   "outputs": [
    {
     "name": "stdout",
     "output_type": "stream",
     "text": [
      "0 {'seq': 'cctaagaagcta', 'len': 12}\n",
      "1 {'seq': 'taatagatggtagaatgtaaaaggcacttttacacttttt', 'len': 40}\n",
      "2 {'seq': 'tgttatag', 'len': 8}\n",
      "3 {'seq': 'actcgtgtcctgtcaac', 'len': 17}\n",
      "4 {'seq': 'caatagtctgaacaactggtgtaagttccatctctaattga', 'len': 41}\n",
      "5 {'seq': 'tcaa', 'len': 4}\n"
     ]
    }
   ],
   "source": [
    "for k in seq_infos_dict.keys():\n",
    "    print(k, seq_infos_dict[k])"
   ]
  },
  {
   "cell_type": "markdown",
   "metadata": {},
   "source": [
    "Finalmente, las cláusulas se pueden anidar. Aquí calculo las frecuencias absolutas de nucleótidos en cada secuencia como una lista de diccionarios:"
   ]
  },
  {
   "cell_type": "code",
   "execution_count": 29,
   "metadata": {},
   "outputs": [
    {
     "data": {
      "text/plain": [
       "[{'seq_index': 0, 'nucl': 'A', 'freq': 5},\n",
       " {'seq_index': 0, 'nucl': 'C', 'freq': 3},\n",
       " {'seq_index': 0, 'nucl': 'T', 'freq': 2},\n",
       " {'seq_index': 0, 'nucl': 'G', 'freq': 2},\n",
       " {'seq_index': 1, 'nucl': 'A', 'freq': 14},\n",
       " {'seq_index': 1, 'nucl': 'C', 'freq': 4},\n",
       " {'seq_index': 1, 'nucl': 'T', 'freq': 15},\n",
       " {'seq_index': 1, 'nucl': 'G', 'freq': 7},\n",
       " {'seq_index': 2, 'nucl': 'A', 'freq': 2},\n",
       " {'seq_index': 2, 'nucl': 'C', 'freq': 0},\n",
       " {'seq_index': 2, 'nucl': 'T', 'freq': 4},\n",
       " {'seq_index': 2, 'nucl': 'G', 'freq': 2},\n",
       " {'seq_index': 3, 'nucl': 'A', 'freq': 3},\n",
       " {'seq_index': 3, 'nucl': 'C', 'freq': 6},\n",
       " {'seq_index': 3, 'nucl': 'T', 'freq': 5},\n",
       " {'seq_index': 3, 'nucl': 'G', 'freq': 3},\n",
       " {'seq_index': 4, 'nucl': 'A', 'freq': 13},\n",
       " {'seq_index': 4, 'nucl': 'C', 'freq': 8},\n",
       " {'seq_index': 4, 'nucl': 'T', 'freq': 13},\n",
       " {'seq_index': 4, 'nucl': 'G', 'freq': 7},\n",
       " {'seq_index': 5, 'nucl': 'A', 'freq': 2},\n",
       " {'seq_index': 5, 'nucl': 'C', 'freq': 1},\n",
       " {'seq_index': 5, 'nucl': 'T', 'freq': 1},\n",
       " {'seq_index': 5, 'nucl': 'G', 'freq': 0}]"
      ]
     },
     "execution_count": 29,
     "metadata": {},
     "output_type": "execute_result"
    }
   ],
   "source": [
    "[dict({'seq_index': i, \n",
    "       \"nucl\": nucl, \n",
    "       \"freq\": seq.upper().count(nucl)}) for i, seq in enumerate(seqs) for nucl in ['A', 'C', 'T', 'G']]"
   ]
  },
  {
   "cell_type": "markdown",
   "metadata": {},
   "source": [
    "🤔Espera un momento, veo muchos `seq_index: X` repetidos! Alerta de redundancia!!! 🚨🚨\n",
    "\n",
    "¿Y si meto más niveles?"
   ]
  },
  {
   "cell_type": "code",
   "execution_count": 30,
   "metadata": {},
   "outputs": [
    {
     "data": {
      "text/plain": [
       "{0: {'A': 5, 'C': 3, 'T': 2, 'G': 2},\n",
       " 1: {'A': 14, 'C': 4, 'T': 15, 'G': 7},\n",
       " 2: {'A': 2, 'C': 0, 'T': 4, 'G': 2},\n",
       " 3: {'A': 3, 'C': 6, 'T': 5, 'G': 3},\n",
       " 4: {'A': 13, 'C': 8, 'T': 13, 'G': 7},\n",
       " 5: {'A': 2, 'C': 1, 'T': 1, 'G': 0}}"
      ]
     },
     "execution_count": 30,
     "metadata": {},
     "output_type": "execute_result"
    }
   ],
   "source": [
    "{i: {nucl: seq.upper().count(nucl) for nucl in ['A', 'C', 'T', 'G']} for i, seq in enumerate(seqs)}"
   ]
  },
  {
   "cell_type": "markdown",
   "metadata": {},
   "source": [
    "Más organizadito todo. ¡Qué bien! 😌"
   ]
  },
  {
   "cell_type": "code",
   "execution_count": null,
   "metadata": {},
   "outputs": [],
   "source": []
  }
 ],
 "metadata": {
  "kernelspec": {
   "display_name": "Python 3",
   "language": "python",
   "name": "python3"
  },
  "language_info": {
   "codemirror_mode": {
    "name": "ipython",
    "version": 3
   },
   "file_extension": ".py",
   "mimetype": "text/x-python",
   "name": "python",
   "nbconvert_exporter": "python",
   "pygments_lexer": "ipython3",
   "version": "3.9.2"
  }
 },
 "nbformat": 4,
 "nbformat_minor": 2
}
